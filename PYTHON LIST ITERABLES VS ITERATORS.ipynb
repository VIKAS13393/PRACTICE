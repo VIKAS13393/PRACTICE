{
 "cells": [
  {
   "cell_type": "code",
   "execution_count": 7,
   "metadata": {},
   "outputs": [
    {
     "name": "stdout",
     "output_type": "stream",
     "text": [
      "1\n",
      "2\n",
      "3\n",
      "5\n",
      "6\n"
     ]
    }
   ],
   "source": [
    "# list is iterable\n",
    "\n",
    "lst=[1,2,3,5,6]\n",
    "\n",
    "for i in lst:\n",
    "    print(i)\n",
    "# iiterable mai list create krte hi memory allocation ho jata hai    "
   ]
  },
  {
   "cell_type": "code",
   "execution_count": 8,
   "metadata": {},
   "outputs": [],
   "source": [
    "list1=iter(lst) \n",
    "#memory is not intilaized when created, the memory is initizlized one by one using next function"
   ]
  },
  {
   "cell_type": "code",
   "execution_count": 9,
   "metadata": {},
   "outputs": [
    {
     "data": {
      "text/plain": [
       "<list_iterator at 0x4d86c70>"
      ]
     },
     "execution_count": 9,
     "metadata": {},
     "output_type": "execute_result"
    }
   ],
   "source": [
    "list1"
   ]
  },
  {
   "cell_type": "code",
   "execution_count": 10,
   "metadata": {},
   "outputs": [
    {
     "data": {
      "text/plain": [
       "1"
      ]
     },
     "execution_count": 10,
     "metadata": {},
     "output_type": "execute_result"
    }
   ],
   "source": [
    "next(list1) # this will allocate memory one by one"
   ]
  },
  {
   "cell_type": "code",
   "execution_count": 11,
   "metadata": {},
   "outputs": [],
   "source": [
    "# iterable mai ek sath list ko memeory allocate kr dete hai, iterator mai ek ek krke memory allocate krte hai \n",
    "# next function ko use krke"
   ]
  },
  {
   "cell_type": "code",
   "execution_count": 12,
   "metadata": {},
   "outputs": [],
   "source": [
    "# so these  iterators are used when we have large list and good amount of info,\n",
    "# it is unnecessary to allocate memory to all the info\n",
    "# therefore we will convert that list into iterator and allocate memory one by one instead of allocating all at once in case of iterable\n"
   ]
  },
  {
   "cell_type": "code",
   "execution_count": 13,
   "metadata": {},
   "outputs": [
    {
     "name": "stdout",
     "output_type": "stream",
     "text": [
      "2\n",
      "3\n",
      "5\n",
      "6\n"
     ]
    }
   ],
   "source": [
    "for i in list1:\n",
    "    print(i)\n",
    "    \n",
    "# in for loop stopiteration exception is already inbuilt\n"
   ]
  },
  {
   "cell_type": "code",
   "execution_count": 14,
   "metadata": {},
   "outputs": [],
   "source": [
    "# in iterable unless and untill we dont call the element present the memory \n",
    "# will not be allocated to that element\n",
    "# therefore here memory is allocate only when we call the element\n"
   ]
  },
  {
   "cell_type": "code",
   "execution_count": 18,
   "metadata": {},
   "outputs": [
    {
     "name": "stdout",
     "output_type": "stream",
     "text": [
      " the iterator is empty\n"
     ]
    }
   ],
   "source": [
    "try:\n",
    "    print(next(list1))\n",
    "except StopIteration:\n",
    "    print(\" the iterator is empty\")"
   ]
  },
  {
   "cell_type": "markdown",
   "metadata": {},
   "source": [
    "# GENERATOR\n",
    "\n",
    "Generator is used in order to create iterators"
   ]
  },
  {
   "cell_type": "code",
   "execution_count": 19,
   "metadata": {},
   "outputs": [],
   "source": [
    "def square(n):\n",
    "    for i in range(n):\n",
    "        return i**2"
   ]
  },
  {
   "cell_type": "code",
   "execution_count": 23,
   "metadata": {},
   "outputs": [
    {
     "data": {
      "text/plain": [
       "<generator object square at 0x0000000004E6D3C0>"
      ]
     },
     "execution_count": 23,
     "metadata": {},
     "output_type": "execute_result"
    }
   ],
   "source": [
    "square(3)\n",
    "\n",
    "# here range(0-3) and we are getting just the first output not for 1 and 2, it is not "
   ]
  },
  {
   "cell_type": "code",
   "execution_count": 24,
   "metadata": {},
   "outputs": [],
   "source": [
    "def square(n):\n",
    "    for i in range(n):\n",
    "        yield i**2   # this will make the entire function iterator"
   ]
  },
  {
   "cell_type": "raw",
   "metadata": {},
   "source": [
    "a=square(3)\n",
    "a"
   ]
  },
  {
   "cell_type": "raw",
   "metadata": {},
   "source": [
    "# 1. To create an iterator we use iter funtion and to crete generator we use funcion along with yield keyword\n",
    "2.Generator uses the yield keyword, it saves local variable value\n",
    "3. Generator help us to write fast and compact code\n",
    "4. Pyhton iterator is much more memory efficient"
   ]
  },
  {
   "cell_type": "code",
   "execution_count": null,
   "metadata": {},
   "outputs": [],
   "source": []
  }
 ],
 "metadata": {
  "kernelspec": {
   "display_name": "Python 3",
   "language": "python",
   "name": "python3"
  },
  "language_info": {
   "codemirror_mode": {
    "name": "ipython",
    "version": 3
   },
   "file_extension": ".py",
   "mimetype": "text/x-python",
   "name": "python",
   "nbconvert_exporter": "python",
   "pygments_lexer": "ipython3",
   "version": "3.8.5"
  }
 },
 "nbformat": 4,
 "nbformat_minor": 4
}
