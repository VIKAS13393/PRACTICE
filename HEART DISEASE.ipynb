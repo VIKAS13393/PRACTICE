{
 "cells": [
  {
   "cell_type": "code",
   "execution_count": 79,
   "metadata": {},
   "outputs": [],
   "source": [
    "import numpy as np\n",
    "import pandas as pd\n",
    "import sklearn\n",
    "import seaborn as sns\n",
    "import matplotlib.pyplot as plt\n",
    "from sklearn.linear_model import LogisticRegression\n",
    "from sklearn.naive_bayes import GaussianNB\n",
    "from sklearn.svm import SVC\n",
    "from sklearn.tree import DecisionTreeClassifier\n",
    "from sklearn.ensemble import RandomForestClassifier\n",
    "from sklearn.metrics import accuracy_score,classification_report,confusion_matrix\n",
    "from sklearn.neighbors import KNeighborsClassifier\n",
    "import warnings\n",
    "warnings.filterwarnings('ignore')\n",
    "from sklearn.metrics import roc_curve\n",
    "from sklearn.metrics import roc_auc_score\n",
    "\n",
    "from sklearn.model_selection import train_test_split\n"
   ]
  },
  {
   "cell_type": "code",
   "execution_count": 82,
   "metadata": {},
   "outputs": [
    {
     "data": {
      "text/html": [
       "<div>\n",
       "<style scoped>\n",
       "    .dataframe tbody tr th:only-of-type {\n",
       "        vertical-align: middle;\n",
       "    }\n",
       "\n",
       "    .dataframe tbody tr th {\n",
       "        vertical-align: top;\n",
       "    }\n",
       "\n",
       "    .dataframe thead th {\n",
       "        text-align: right;\n",
       "    }\n",
       "</style>\n",
       "<table border=\"1\" class=\"dataframe\">\n",
       "  <thead>\n",
       "    <tr style=\"text-align: right;\">\n",
       "      <th></th>\n",
       "      <th>63</th>\n",
       "      <th>1</th>\n",
       "      <th>1.1</th>\n",
       "      <th>145</th>\n",
       "      <th>233</th>\n",
       "      <th>1.2</th>\n",
       "      <th>2</th>\n",
       "      <th>150</th>\n",
       "      <th>0</th>\n",
       "      <th>2.3</th>\n",
       "      <th>3</th>\n",
       "      <th>0.1</th>\n",
       "      <th>6</th>\n",
       "      <th>0.2</th>\n",
       "    </tr>\n",
       "  </thead>\n",
       "  <tbody>\n",
       "    <tr>\n",
       "      <th>0</th>\n",
       "      <td>67</td>\n",
       "      <td>1</td>\n",
       "      <td>4</td>\n",
       "      <td>160</td>\n",
       "      <td>286</td>\n",
       "      <td>0</td>\n",
       "      <td>2</td>\n",
       "      <td>108</td>\n",
       "      <td>1</td>\n",
       "      <td>1.5</td>\n",
       "      <td>2</td>\n",
       "      <td>3.0</td>\n",
       "      <td>3.0</td>\n",
       "      <td>2</td>\n",
       "    </tr>\n",
       "    <tr>\n",
       "      <th>1</th>\n",
       "      <td>67</td>\n",
       "      <td>1</td>\n",
       "      <td>4</td>\n",
       "      <td>120</td>\n",
       "      <td>229</td>\n",
       "      <td>0</td>\n",
       "      <td>2</td>\n",
       "      <td>129</td>\n",
       "      <td>1</td>\n",
       "      <td>2.6</td>\n",
       "      <td>2</td>\n",
       "      <td>2.0</td>\n",
       "      <td>7.0</td>\n",
       "      <td>1</td>\n",
       "    </tr>\n",
       "    <tr>\n",
       "      <th>2</th>\n",
       "      <td>37</td>\n",
       "      <td>1</td>\n",
       "      <td>3</td>\n",
       "      <td>130</td>\n",
       "      <td>250</td>\n",
       "      <td>0</td>\n",
       "      <td>0</td>\n",
       "      <td>187</td>\n",
       "      <td>0</td>\n",
       "      <td>3.5</td>\n",
       "      <td>3</td>\n",
       "      <td>0.0</td>\n",
       "      <td>3.0</td>\n",
       "      <td>0</td>\n",
       "    </tr>\n",
       "    <tr>\n",
       "      <th>3</th>\n",
       "      <td>41</td>\n",
       "      <td>0</td>\n",
       "      <td>2</td>\n",
       "      <td>130</td>\n",
       "      <td>204</td>\n",
       "      <td>0</td>\n",
       "      <td>2</td>\n",
       "      <td>172</td>\n",
       "      <td>0</td>\n",
       "      <td>1.4</td>\n",
       "      <td>1</td>\n",
       "      <td>0.0</td>\n",
       "      <td>3.0</td>\n",
       "      <td>0</td>\n",
       "    </tr>\n",
       "    <tr>\n",
       "      <th>4</th>\n",
       "      <td>56</td>\n",
       "      <td>1</td>\n",
       "      <td>2</td>\n",
       "      <td>120</td>\n",
       "      <td>236</td>\n",
       "      <td>0</td>\n",
       "      <td>0</td>\n",
       "      <td>178</td>\n",
       "      <td>0</td>\n",
       "      <td>0.8</td>\n",
       "      <td>1</td>\n",
       "      <td>0.0</td>\n",
       "      <td>3.0</td>\n",
       "      <td>0</td>\n",
       "    </tr>\n",
       "  </tbody>\n",
       "</table>\n",
       "</div>"
      ],
      "text/plain": [
       "   63  1  1.1  145  233  1.2  2  150  0  2.3  3  0.1    6  0.2\n",
       "0  67  1    4  160  286    0  2  108  1  1.5  2  3.0  3.0    2\n",
       "1  67  1    4  120  229    0  2  129  1  2.6  2  2.0  7.0    1\n",
       "2  37  1    3  130  250    0  0  187  0  3.5  3  0.0  3.0    0\n",
       "3  41  0    2  130  204    0  2  172  0  1.4  1  0.0  3.0    0\n",
       "4  56  1    2  120  236    0  0  178  0  0.8  1  0.0  3.0    0"
      ]
     },
     "execution_count": 82,
     "metadata": {},
     "output_type": "execute_result"
    }
   ],
   "source": [
    "ht=pd.read_csv('NewCleveland.csv')\n",
    "ht.head()"
   ]
  },
  {
   "cell_type": "code",
   "execution_count": 83,
   "metadata": {},
   "outputs": [
    {
     "data": {
      "text/plain": [
       "Index(['63', '1', '1.1', '145', '233', '1.2', '2', '150', '0', '2.3', '3',\n",
       "       '0.1', '6', '0.2'],\n",
       "      dtype='object')"
      ]
     },
     "execution_count": 83,
     "metadata": {},
     "output_type": "execute_result"
    }
   ],
   "source": [
    "ht.columns"
   ]
  },
  {
   "cell_type": "code",
   "execution_count": 84,
   "metadata": {},
   "outputs": [
    {
     "data": {
      "text/plain": [
       "(302, 14)"
      ]
     },
     "execution_count": 84,
     "metadata": {},
     "output_type": "execute_result"
    }
   ],
   "source": [
    "ht.shape"
   ]
  },
  {
   "cell_type": "code",
   "execution_count": 126,
   "metadata": {},
   "outputs": [],
   "source": [
    "ht.rename(columns={'63':'Age','1':'Sex','1.1':'ChestPain','145':'trestbps','233':'cholestrol','1.2':'FatingBloodSugar','2':'RestingECG','150':'MaximumHeartRate','0':'ExerciseInducedAngina','2.3':'OldPeak','3':'Slope','0.1':'CA','6':'thal','0.2':'Target'}, inplace=True)"
   ]
  },
  {
   "cell_type": "code",
   "execution_count": 127,
   "metadata": {},
   "outputs": [
    {
     "data": {
      "text/html": [
       "<div>\n",
       "<style scoped>\n",
       "    .dataframe tbody tr th:only-of-type {\n",
       "        vertical-align: middle;\n",
       "    }\n",
       "\n",
       "    .dataframe tbody tr th {\n",
       "        vertical-align: top;\n",
       "    }\n",
       "\n",
       "    .dataframe thead th {\n",
       "        text-align: right;\n",
       "    }\n",
       "</style>\n",
       "<table border=\"1\" class=\"dataframe\">\n",
       "  <thead>\n",
       "    <tr style=\"text-align: right;\">\n",
       "      <th></th>\n",
       "      <th>Age</th>\n",
       "      <th>Sex</th>\n",
       "      <th>ChestPain</th>\n",
       "      <th>trestbps</th>\n",
       "      <th>cholestrol</th>\n",
       "      <th>ExerciseInducedAngina</th>\n",
       "      <th>RestingECG</th>\n",
       "      <th>MaximumHeartRate</th>\n",
       "      <th>ExerciseInducedAngina</th>\n",
       "      <th>OldPeak</th>\n",
       "      <th>Slope</th>\n",
       "      <th>CA</th>\n",
       "      <th>thal</th>\n",
       "      <th>Target</th>\n",
       "    </tr>\n",
       "  </thead>\n",
       "  <tbody>\n",
       "    <tr>\n",
       "      <th>0</th>\n",
       "      <td>67</td>\n",
       "      <td>1</td>\n",
       "      <td>4</td>\n",
       "      <td>160</td>\n",
       "      <td>286</td>\n",
       "      <td>0</td>\n",
       "      <td>2</td>\n",
       "      <td>108</td>\n",
       "      <td>1</td>\n",
       "      <td>1.5</td>\n",
       "      <td>2</td>\n",
       "      <td>3.0</td>\n",
       "      <td>3.0</td>\n",
       "      <td>2</td>\n",
       "    </tr>\n",
       "    <tr>\n",
       "      <th>1</th>\n",
       "      <td>67</td>\n",
       "      <td>1</td>\n",
       "      <td>4</td>\n",
       "      <td>120</td>\n",
       "      <td>229</td>\n",
       "      <td>0</td>\n",
       "      <td>2</td>\n",
       "      <td>129</td>\n",
       "      <td>1</td>\n",
       "      <td>2.6</td>\n",
       "      <td>2</td>\n",
       "      <td>2.0</td>\n",
       "      <td>7.0</td>\n",
       "      <td>1</td>\n",
       "    </tr>\n",
       "    <tr>\n",
       "      <th>2</th>\n",
       "      <td>37</td>\n",
       "      <td>1</td>\n",
       "      <td>3</td>\n",
       "      <td>130</td>\n",
       "      <td>250</td>\n",
       "      <td>0</td>\n",
       "      <td>0</td>\n",
       "      <td>187</td>\n",
       "      <td>0</td>\n",
       "      <td>3.5</td>\n",
       "      <td>3</td>\n",
       "      <td>0.0</td>\n",
       "      <td>3.0</td>\n",
       "      <td>0</td>\n",
       "    </tr>\n",
       "    <tr>\n",
       "      <th>3</th>\n",
       "      <td>41</td>\n",
       "      <td>0</td>\n",
       "      <td>2</td>\n",
       "      <td>130</td>\n",
       "      <td>204</td>\n",
       "      <td>0</td>\n",
       "      <td>2</td>\n",
       "      <td>172</td>\n",
       "      <td>0</td>\n",
       "      <td>1.4</td>\n",
       "      <td>1</td>\n",
       "      <td>0.0</td>\n",
       "      <td>3.0</td>\n",
       "      <td>0</td>\n",
       "    </tr>\n",
       "    <tr>\n",
       "      <th>4</th>\n",
       "      <td>56</td>\n",
       "      <td>1</td>\n",
       "      <td>2</td>\n",
       "      <td>120</td>\n",
       "      <td>236</td>\n",
       "      <td>0</td>\n",
       "      <td>0</td>\n",
       "      <td>178</td>\n",
       "      <td>0</td>\n",
       "      <td>0.8</td>\n",
       "      <td>1</td>\n",
       "      <td>0.0</td>\n",
       "      <td>3.0</td>\n",
       "      <td>0</td>\n",
       "    </tr>\n",
       "  </tbody>\n",
       "</table>\n",
       "</div>"
      ],
      "text/plain": [
       "   Age  Sex  ChestPain  trestbps  cholestrol  ExerciseInducedAngina  \\\n",
       "0   67    1          4       160         286                      0   \n",
       "1   67    1          4       120         229                      0   \n",
       "2   37    1          3       130         250                      0   \n",
       "3   41    0          2       130         204                      0   \n",
       "4   56    1          2       120         236                      0   \n",
       "\n",
       "   RestingECG  MaximumHeartRate  ExerciseInducedAngina  OldPeak  Slope   CA  \\\n",
       "0           2               108                      1      1.5      2  3.0   \n",
       "1           2               129                      1      2.6      2  2.0   \n",
       "2           0               187                      0      3.5      3  0.0   \n",
       "3           2               172                      0      1.4      1  0.0   \n",
       "4           0               178                      0      0.8      1  0.0   \n",
       "\n",
       "   thal  Target  \n",
       "0   3.0       2  \n",
       "1   7.0       1  \n",
       "2   3.0       0  \n",
       "3   3.0       0  \n",
       "4   3.0       0  "
      ]
     },
     "execution_count": 127,
     "metadata": {},
     "output_type": "execute_result"
    }
   ],
   "source": [
    "ht.head()"
   ]
  },
  {
   "cell_type": "code",
   "execution_count": 125,
   "metadata": {},
   "outputs": [
    {
     "name": "stdout",
     "output_type": "stream",
     "text": [
      "<class 'pandas.core.frame.DataFrame'>\n",
      "RangeIndex: 302 entries, 0 to 301\n",
      "Data columns (total 14 columns):\n",
      " #   Column                 Non-Null Count  Dtype  \n",
      "---  ------                 --------------  -----  \n",
      " 0   Age                    302 non-null    int64  \n",
      " 1   Sex                    302 non-null    int64  \n",
      " 2   ChestPain              302 non-null    int64  \n",
      " 3   trestbps               302 non-null    int64  \n",
      " 4   cholestrol             302 non-null    int64  \n",
      " 5   ExerciseInducedAngina  302 non-null    int64  \n",
      " 6   RestingECG             302 non-null    int64  \n",
      " 7   MaximumHeartRate       302 non-null    int64  \n",
      " 8   ExerciseInducedAngina  302 non-null    int64  \n",
      " 9   OldPeak                302 non-null    float64\n",
      " 10  Slope                  302 non-null    int64  \n",
      " 11  CA                     302 non-null    float64\n",
      " 12  thal                   302 non-null    float64\n",
      " 13  Target                 302 non-null    int64  \n",
      "dtypes: float64(3), int64(11)\n",
      "memory usage: 33.2 KB\n"
     ]
    }
   ],
   "source": [
    "ht.info()\n"
   ]
  },
  {
   "cell_type": "code",
   "execution_count": 88,
   "metadata": {},
   "outputs": [
    {
     "data": {
      "text/plain": [
       "Age                      0\n",
       "Sex                      0\n",
       "ChestPain                0\n",
       "trestbps                 0\n",
       "cholestrol               0\n",
       "ExerciseInducedAngina    0\n",
       "RestingECG               0\n",
       "MaximumHeartRate         0\n",
       "ExerciseInducedAngina    0\n",
       "OldPeak                  0\n",
       "Slope                    0\n",
       "CA                       4\n",
       "thal                     2\n",
       "Target                   0\n",
       "dtype: int64"
      ]
     },
     "execution_count": 88,
     "metadata": {},
     "output_type": "execute_result"
    }
   ],
   "source": [
    "ht.isnull().sum()"
   ]
  },
  {
   "cell_type": "code",
   "execution_count": 89,
   "metadata": {},
   "outputs": [
    {
     "data": {
      "text/plain": [
       "<AxesSubplot:>"
      ]
     },
     "execution_count": 89,
     "metadata": {},
     "output_type": "execute_result"
    },
    {
     "data": {
      "image/png": "[encoded data removed]",
      "text/plain": [
       "<Figure size 432x288 with 2 Axes>"
      ]
     },
     "metadata": {
      "needs_background": "light"
     },
     "output_type": "display_data"
    }
   ],
   "source": [
    "sns.heatmap(ht.isnull())"
   ]
  },
  {
   "cell_type": "code",
   "execution_count": 90,
   "metadata": {},
   "outputs": [
    {
     "data": {
      "text/plain": [
       "0.0    175\n",
       "1.0     65\n",
       "2.0     38\n",
       "3.0     20\n",
       "Name: CA, dtype: int64"
      ]
     },
     "execution_count": 90,
     "metadata": {},
     "output_type": "execute_result"
    }
   ],
   "source": [
    "ht['CA'].value_counts()"
   ]
  },
  {
   "cell_type": "code",
   "execution_count": 91,
   "metadata": {},
   "outputs": [
    {
     "data": {
      "text/plain": [
       "3.0    166\n",
       "7.0    117\n",
       "6.0     17\n",
       "Name: thal, dtype: int64"
      ]
     },
     "execution_count": 91,
     "metadata": {},
     "output_type": "execute_result"
    }
   ],
   "source": [
    "\n",
    "ht['thal'].value_counts()"
   ]
  },
  {
   "cell_type": "code",
   "execution_count": 105,
   "metadata": {},
   "outputs": [],
   "source": [
    "ht_mean_CA=ht['CA'].mean()"
   ]
  },
  {
   "cell_type": "code",
   "execution_count": 106,
   "metadata": {},
   "outputs": [
    {
     "data": {
      "text/plain": [
       "0.674496644295302"
      ]
     },
     "execution_count": 106,
     "metadata": {},
     "output_type": "execute_result"
    }
   ],
   "source": [
    "ht_mean_CA"
   ]
  },
  {
   "cell_type": "code",
   "execution_count": 107,
   "metadata": {},
   "outputs": [],
   "source": [
    "#ht['CA'].fillna(ht_mean_CA,inplace=True)"
   ]
  },
  {
   "cell_type": "code",
   "execution_count": 111,
   "metadata": {},
   "outputs": [],
   "source": [
    "ht['CA'] = ht['CA'].fillna(ht_mean_CA)"
   ]
  },
  {
   "cell_type": "code",
   "execution_count": 108,
   "metadata": {},
   "outputs": [],
   "source": [
    "ht_mean_thal=ht['thal'].mean()"
   ]
  },
  {
   "cell_type": "code",
   "execution_count": 109,
   "metadata": {},
   "outputs": [
    {
     "data": {
      "text/plain": [
       "4.73"
      ]
     },
     "execution_count": 109,
     "metadata": {},
     "output_type": "execute_result"
    }
   ],
   "source": [
    "ht_mean_thal"
   ]
  },
  {
   "cell_type": "code",
   "execution_count": 113,
   "metadata": {},
   "outputs": [],
   "source": [
    "ht['thal'] = ht['thal'].fillna(ht_mean_thal)"
   ]
  },
  {
   "cell_type": "code",
   "execution_count": 114,
   "metadata": {},
   "outputs": [
    {
     "data": {
      "text/plain": [
       "Age                      0\n",
       "Sex                      0\n",
       "ChestPain                0\n",
       "trestbps                 0\n",
       "cholestrol               0\n",
       "ExerciseInducedAngina    0\n",
       "RestingECG               0\n",
       "MaximumHeartRate         0\n",
       "ExerciseInducedAngina    0\n",
       "OldPeak                  0\n",
       "Slope                    0\n",
       "CA                       0\n",
       "thal                     0\n",
       "Target                   0\n",
       "dtype: int64"
      ]
     },
     "execution_count": 114,
     "metadata": {},
     "output_type": "execute_result"
    }
   ],
   "source": [
    "ht.isnull().sum()"
   ]
  },
  {
   "cell_type": "code",
   "execution_count": 115,
   "metadata": {},
   "outputs": [
    {
     "data": {
      "text/html": [
       "<div>\n",
       "<style scoped>\n",
       "    .dataframe tbody tr th:only-of-type {\n",
       "        vertical-align: middle;\n",
       "    }\n",
       "\n",
       "    .dataframe tbody tr th {\n",
       "        vertical-align: top;\n",
       "    }\n",
       "\n",
       "    .dataframe thead th {\n",
       "        text-align: right;\n",
       "    }\n",
       "</style>\n",
       "<table border=\"1\" class=\"dataframe\">\n",
       "  <thead>\n",
       "    <tr style=\"text-align: right;\">\n",
       "      <th></th>\n",
       "      <th>Age</th>\n",
       "      <th>Sex</th>\n",
       "      <th>ChestPain</th>\n",
       "      <th>trestbps</th>\n",
       "      <th>cholestrol</th>\n",
       "      <th>ExerciseInducedAngina</th>\n",
       "      <th>RestingECG</th>\n",
       "      <th>MaximumHeartRate</th>\n",
       "      <th>ExerciseInducedAngina</th>\n",
       "      <th>OldPeak</th>\n",
       "      <th>Slope</th>\n",
       "      <th>CA</th>\n",
       "      <th>thal</th>\n",
       "      <th>Target</th>\n",
       "    </tr>\n",
       "  </thead>\n",
       "  <tbody>\n",
       "    <tr>\n",
       "      <th>count</th>\n",
       "      <td>302.000000</td>\n",
       "      <td>302.000000</td>\n",
       "      <td>302.000000</td>\n",
       "      <td>302.000000</td>\n",
       "      <td>302.000000</td>\n",
       "      <td>302.000000</td>\n",
       "      <td>302.000000</td>\n",
       "      <td>302.000000</td>\n",
       "      <td>302.000000</td>\n",
       "      <td>302.000000</td>\n",
       "      <td>302.000000</td>\n",
       "      <td>302.000000</td>\n",
       "      <td>302.000000</td>\n",
       "      <td>302.000000</td>\n",
       "    </tr>\n",
       "    <tr>\n",
       "      <th>mean</th>\n",
       "      <td>54.410596</td>\n",
       "      <td>0.678808</td>\n",
       "      <td>3.165563</td>\n",
       "      <td>131.645695</td>\n",
       "      <td>246.738411</td>\n",
       "      <td>0.145695</td>\n",
       "      <td>0.986755</td>\n",
       "      <td>149.605960</td>\n",
       "      <td>0.327815</td>\n",
       "      <td>1.035430</td>\n",
       "      <td>1.596026</td>\n",
       "      <td>0.674497</td>\n",
       "      <td>4.730000</td>\n",
       "      <td>0.940397</td>\n",
       "    </tr>\n",
       "    <tr>\n",
       "      <th>std</th>\n",
       "      <td>9.040163</td>\n",
       "      <td>0.467709</td>\n",
       "      <td>0.953612</td>\n",
       "      <td>17.612202</td>\n",
       "      <td>51.856829</td>\n",
       "      <td>0.353386</td>\n",
       "      <td>0.994916</td>\n",
       "      <td>22.912959</td>\n",
       "      <td>0.470196</td>\n",
       "      <td>1.160723</td>\n",
       "      <td>0.611939</td>\n",
       "      <td>0.931947</td>\n",
       "      <td>1.935102</td>\n",
       "      <td>1.229384</td>\n",
       "    </tr>\n",
       "    <tr>\n",
       "      <th>min</th>\n",
       "      <td>29.000000</td>\n",
       "      <td>0.000000</td>\n",
       "      <td>1.000000</td>\n",
       "      <td>94.000000</td>\n",
       "      <td>126.000000</td>\n",
       "      <td>0.000000</td>\n",
       "      <td>0.000000</td>\n",
       "      <td>71.000000</td>\n",
       "      <td>0.000000</td>\n",
       "      <td>0.000000</td>\n",
       "      <td>1.000000</td>\n",
       "      <td>0.000000</td>\n",
       "      <td>3.000000</td>\n",
       "      <td>0.000000</td>\n",
       "    </tr>\n",
       "    <tr>\n",
       "      <th>25%</th>\n",
       "      <td>48.000000</td>\n",
       "      <td>0.000000</td>\n",
       "      <td>3.000000</td>\n",
       "      <td>120.000000</td>\n",
       "      <td>211.000000</td>\n",
       "      <td>0.000000</td>\n",
       "      <td>0.000000</td>\n",
       "      <td>133.250000</td>\n",
       "      <td>0.000000</td>\n",
       "      <td>0.000000</td>\n",
       "      <td>1.000000</td>\n",
       "      <td>0.000000</td>\n",
       "      <td>3.000000</td>\n",
       "      <td>0.000000</td>\n",
       "    </tr>\n",
       "    <tr>\n",
       "      <th>50%</th>\n",
       "      <td>55.500000</td>\n",
       "      <td>1.000000</td>\n",
       "      <td>3.000000</td>\n",
       "      <td>130.000000</td>\n",
       "      <td>241.500000</td>\n",
       "      <td>0.000000</td>\n",
       "      <td>0.500000</td>\n",
       "      <td>153.000000</td>\n",
       "      <td>0.000000</td>\n",
       "      <td>0.800000</td>\n",
       "      <td>2.000000</td>\n",
       "      <td>0.000000</td>\n",
       "      <td>3.000000</td>\n",
       "      <td>0.000000</td>\n",
       "    </tr>\n",
       "    <tr>\n",
       "      <th>75%</th>\n",
       "      <td>61.000000</td>\n",
       "      <td>1.000000</td>\n",
       "      <td>4.000000</td>\n",
       "      <td>140.000000</td>\n",
       "      <td>275.000000</td>\n",
       "      <td>0.000000</td>\n",
       "      <td>2.000000</td>\n",
       "      <td>166.000000</td>\n",
       "      <td>1.000000</td>\n",
       "      <td>1.600000</td>\n",
       "      <td>2.000000</td>\n",
       "      <td>1.000000</td>\n",
       "      <td>7.000000</td>\n",
       "      <td>2.000000</td>\n",
       "    </tr>\n",
       "    <tr>\n",
       "      <th>max</th>\n",
       "      <td>77.000000</td>\n",
       "      <td>1.000000</td>\n",
       "      <td>4.000000</td>\n",
       "      <td>200.000000</td>\n",
       "      <td>564.000000</td>\n",
       "      <td>1.000000</td>\n",
       "      <td>2.000000</td>\n",
       "      <td>202.000000</td>\n",
       "      <td>1.000000</td>\n",
       "      <td>6.200000</td>\n",
       "      <td>3.000000</td>\n",
       "      <td>3.000000</td>\n",
       "      <td>7.000000</td>\n",
       "      <td>4.000000</td>\n",
       "    </tr>\n",
       "  </tbody>\n",
       "</table>\n",
       "</div>"
      ],
      "text/plain": [
       "              Age         Sex   ChestPain    trestbps  cholestrol  \\\n",
       "count  302.000000  302.000000  302.000000  302.000000  302.000000   \n",
       "mean    54.410596    0.678808    3.165563  131.645695  246.738411   \n",
       "std      9.040163    0.467709    0.953612   17.612202   51.856829   \n",
       "min     29.000000    0.000000    1.000000   94.000000  126.000000   \n",
       "25%     48.000000    0.000000    3.000000  120.000000  211.000000   \n",
       "50%     55.500000    1.000000    3.000000  130.000000  241.500000   \n",
       "75%     61.000000    1.000000    4.000000  140.000000  275.000000   \n",
       "max     77.000000    1.000000    4.000000  200.000000  564.000000   \n",
       "\n",
       "       ExerciseInducedAngina  RestingECG  MaximumHeartRate  \\\n",
       "count             302.000000  302.000000        302.000000   \n",
       "mean                0.145695    0.986755        149.605960   \n",
       "std                 0.353386    0.994916         22.912959   \n",
       "min                 0.000000    0.000000         71.000000   \n",
       "25%                 0.000000    0.000000        133.250000   \n",
       "50%                 0.000000    0.500000        153.000000   \n",
       "75%                 0.000000    2.000000        166.000000   \n",
       "max                 1.000000    2.000000        202.000000   \n",
       "\n",
       "       ExerciseInducedAngina     OldPeak       Slope          CA        thal  \\\n",
       "count             302.000000  302.000000  302.000000  302.000000  302.000000   \n",
       "mean                0.327815    1.035430    1.596026    0.674497    4.730000   \n",
       "std                 0.470196    1.160723    0.611939    0.931947    1.935102   \n",
       "min                 0.000000    0.000000    1.000000    0.000000    3.000000   \n",
       "25%                 0.000000    0.000000    1.000000    0.000000    3.000000   \n",
       "50%                 0.000000    0.800000    2.000000    0.000000    3.000000   \n",
       "75%                 1.000000    1.600000    2.000000    1.000000    7.000000   \n",
       "max                 1.000000    6.200000    3.000000    3.000000    7.000000   \n",
       "\n",
       "           Target  \n",
       "count  302.000000  \n",
       "mean     0.940397  \n",
       "std      1.229384  \n",
       "min      0.000000  \n",
       "25%      0.000000  \n",
       "50%      0.000000  \n",
       "75%      2.000000  \n",
       "max      4.000000  "
      ]
     },
     "execution_count": 115,
     "metadata": {},
     "output_type": "execute_result"
    }
   ],
   "source": [
    "ht.describe()"
   ]
  },
  {
   "cell_type": "code",
   "execution_count": 116,
   "metadata": {},
   "outputs": [
    {
     "data": {
      "text/plain": [
       "Age                     -0.203026\n",
       "Sex                     -0.769709\n",
       "ChestPain               -0.845849\n",
       "trestbps                 0.713008\n",
       "cholestrol               1.131463\n",
       "ExerciseInducedAngina    2.018566\n",
       "RestingECG               0.026623\n",
       "MaximumHeartRate        -0.536399\n",
       "ExerciseInducedAngina    0.737281\n",
       "OldPeak                  1.281701\n",
       "Slope                    0.503687\n",
       "CA                       1.192300\n",
       "thal                     0.251022\n",
       "Target                   1.053696\n",
       "dtype: float64"
      ]
     },
     "execution_count": 116,
     "metadata": {},
     "output_type": "execute_result"
    }
   ],
   "source": [
    "ht.skew()"
   ]
  },
  {
   "cell_type": "code",
   "execution_count": 117,
   "metadata": {},
   "outputs": [
    {
     "data": {
      "text/plain": [
       "ExerciseInducedAngina    2.018566\n",
       "ExerciseInducedAngina    0.737281\n",
       "dtype: float64"
      ]
     },
     "execution_count": 117,
     "metadata": {},
     "output_type": "execute_result"
    }
   ],
   "source": [
    "a=np.log1p(ht['ExerciseInducedAngina'])\n",
    "a.skew()"
   ]
  },
  {
   "cell_type": "code",
   "execution_count": null,
   "metadata": {},
   "outputs": [],
   "source": []
  }
 ],
 "metadata": {
  "kernelspec": {
   "display_name": "Python 3",
   "language": "python",
   "name": "python3"
  },
  "language_info": {
   "codemirror_mode": {
    "name": "ipython",
    "version": 3
   },
   "file_extension": ".py",
   "mimetype": "text/x-python",
   "name": "python",
   "nbconvert_exporter": "python",
   "pygments_lexer": "ipython3",
   "version": "3.8.5"
  }
 },
 "nbformat": 4,
 "nbformat_minor": 4
}
