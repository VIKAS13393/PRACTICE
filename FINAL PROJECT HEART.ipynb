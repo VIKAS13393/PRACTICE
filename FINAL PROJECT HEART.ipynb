{
 "cells": [
  {
   "cell_type": "code",
   "execution_count": 106,
   "metadata": {},
   "outputs": [],
   "source": [
    "#Import all the necessary library\n",
    "import numpy as np\n",
    "import pandas as pd\n",
    "import sklearn\n",
    "import seaborn as sns\n",
    "import matplotlib.pyplot as plt\n",
    "from sklearn.model_selection import train_test_split\n",
    "\n",
    "\n",
    "# import warnings\n",
    "import warnings\n",
    "warnings.filterwarnings('ignore')\n"
   ]
  },
  {
   "cell_type": "markdown",
   "metadata": {},
   "source": [
    "# Read the input file 'NewCleveland.csv using Pandas and check it's column names"
   ]
  },
  {
   "cell_type": "code",
   "execution_count": 5,
   "metadata": {},
   "outputs": [
    {
     "data": {
      "text/html": [
       "<div>\n",
       "<style scoped>\n",
       "    .dataframe tbody tr th:only-of-type {\n",
       "        vertical-align: middle;\n",
       "    }\n",
       "\n",
       "    .dataframe tbody tr th {\n",
       "        vertical-align: top;\n",
       "    }\n",
       "\n",
       "    .dataframe thead th {\n",
       "        text-align: right;\n",
       "    }\n",
       "</style>\n",
       "<table border=\"1\" class=\"dataframe\">\n",
       "  <thead>\n",
       "    <tr style=\"text-align: right;\">\n",
       "      <th></th>\n",
       "      <th>63</th>\n",
       "      <th>1</th>\n",
       "      <th>1.1</th>\n",
       "      <th>145</th>\n",
       "      <th>233</th>\n",
       "      <th>1.2</th>\n",
       "      <th>2</th>\n",
       "      <th>150</th>\n",
       "      <th>0</th>\n",
       "      <th>2.3</th>\n",
       "      <th>3</th>\n",
       "      <th>0.1</th>\n",
       "      <th>6</th>\n",
       "      <th>0.2</th>\n",
       "    </tr>\n",
       "  </thead>\n",
       "  <tbody>\n",
       "    <tr>\n",
       "      <th>0</th>\n",
       "      <td>67</td>\n",
       "      <td>1</td>\n",
       "      <td>4</td>\n",
       "      <td>160</td>\n",
       "      <td>286</td>\n",
       "      <td>0</td>\n",
       "      <td>2</td>\n",
       "      <td>108</td>\n",
       "      <td>1</td>\n",
       "      <td>1.5</td>\n",
       "      <td>2</td>\n",
       "      <td>3.0</td>\n",
       "      <td>3.0</td>\n",
       "      <td>2</td>\n",
       "    </tr>\n",
       "    <tr>\n",
       "      <th>1</th>\n",
       "      <td>67</td>\n",
       "      <td>1</td>\n",
       "      <td>4</td>\n",
       "      <td>120</td>\n",
       "      <td>229</td>\n",
       "      <td>0</td>\n",
       "      <td>2</td>\n",
       "      <td>129</td>\n",
       "      <td>1</td>\n",
       "      <td>2.6</td>\n",
       "      <td>2</td>\n",
       "      <td>2.0</td>\n",
       "      <td>7.0</td>\n",
       "      <td>1</td>\n",
       "    </tr>\n",
       "    <tr>\n",
       "      <th>2</th>\n",
       "      <td>37</td>\n",
       "      <td>1</td>\n",
       "      <td>3</td>\n",
       "      <td>130</td>\n",
       "      <td>250</td>\n",
       "      <td>0</td>\n",
       "      <td>0</td>\n",
       "      <td>187</td>\n",
       "      <td>0</td>\n",
       "      <td>3.5</td>\n",
       "      <td>3</td>\n",
       "      <td>0.0</td>\n",
       "      <td>3.0</td>\n",
       "      <td>0</td>\n",
       "    </tr>\n",
       "    <tr>\n",
       "      <th>3</th>\n",
       "      <td>41</td>\n",
       "      <td>0</td>\n",
       "      <td>2</td>\n",
       "      <td>130</td>\n",
       "      <td>204</td>\n",
       "      <td>0</td>\n",
       "      <td>2</td>\n",
       "      <td>172</td>\n",
       "      <td>0</td>\n",
       "      <td>1.4</td>\n",
       "      <td>1</td>\n",
       "      <td>0.0</td>\n",
       "      <td>3.0</td>\n",
       "      <td>0</td>\n",
       "    </tr>\n",
       "    <tr>\n",
       "      <th>4</th>\n",
       "      <td>56</td>\n",
       "      <td>1</td>\n",
       "      <td>2</td>\n",
       "      <td>120</td>\n",
       "      <td>236</td>\n",
       "      <td>0</td>\n",
       "      <td>0</td>\n",
       "      <td>178</td>\n",
       "      <td>0</td>\n",
       "      <td>0.8</td>\n",
       "      <td>1</td>\n",
       "      <td>0.0</td>\n",
       "      <td>3.0</td>\n",
       "      <td>0</td>\n",
       "    </tr>\n",
       "  </tbody>\n",
       "</table>\n",
       "</div>"
      ],
      "text/plain": [
       "   63  1  1.1  145  233  1.2  2  150  0  2.3  3  0.1    6  0.2\n",
       "0  67  1    4  160  286    0  2  108  1  1.5  2  3.0  3.0    2\n",
       "1  67  1    4  120  229    0  2  129  1  2.6  2  2.0  7.0    1\n",
       "2  37  1    3  130  250    0  0  187  0  3.5  3  0.0  3.0    0\n",
       "3  41  0    2  130  204    0  2  172  0  1.4  1  0.0  3.0    0\n",
       "4  56  1    2  120  236    0  0  178  0  0.8  1  0.0  3.0    0"
      ]
     },
     "execution_count": 5,
     "metadata": {},
     "output_type": "execute_result"
    }
   ],
   "source": [
    "# Loading the Data Set\n",
    "hd=pd.read_csv('NewCleveland.csv')\n",
    "hd.head()"
   ]
  },
  {
   "cell_type": "code",
   "execution_count": 6,
   "metadata": {},
   "outputs": [
    {
     "data": {
      "text/plain": [
       "(302, 14)"
      ]
     },
     "execution_count": 6,
     "metadata": {},
     "output_type": "execute_result"
    }
   ],
   "source": [
    "#Checking the dimensions\n",
    "hd.shape"
   ]
  },
  {
   "cell_type": "code",
   "execution_count": 7,
   "metadata": {},
   "outputs": [
    {
     "data": {
      "text/plain": [
       "Index(['63', '1', '1.1', '145', '233', '1.2', '2', '150', '0', '2.3', '3',\n",
       "       '0.1', '6', '0.2'],\n",
       "      dtype='object')"
      ]
     },
     "execution_count": 7,
     "metadata": {},
     "output_type": "execute_result"
    }
   ],
   "source": [
    "hd.columns"
   ]
  },
  {
   "cell_type": "code",
   "execution_count": 8,
   "metadata": {},
   "outputs": [],
   "source": [
    "# Renaming the column names\n",
    "hd.rename(columns={'63':'Age','1':'Sex','1.1':'ChestPain','145':'trestbps','233':'cholestrol','1.2':'FastingBloodSugar','2':'RestingECG','150':'MaximumHeartRate','0':'ExerciseInducedAngina','2.3':'OldPeak','3':'Slope','0.1':'CA','6':'thal','0.2':'Target'}, inplace=True)"
   ]
  },
  {
   "cell_type": "code",
   "execution_count": 9,
   "metadata": {},
   "outputs": [
    {
     "data": {
      "text/html": [
       "<div>\n",
       "<style scoped>\n",
       "    .dataframe tbody tr th:only-of-type {\n",
       "        vertical-align: middle;\n",
       "    }\n",
       "\n",
       "    .dataframe tbody tr th {\n",
       "        vertical-align: top;\n",
       "    }\n",
       "\n",
       "    .dataframe thead th {\n",
       "        text-align: right;\n",
       "    }\n",
       "</style>\n",
       "<table border=\"1\" class=\"dataframe\">\n",
       "  <thead>\n",
       "    <tr style=\"text-align: right;\">\n",
       "      <th></th>\n",
       "      <th>Age</th>\n",
       "      <th>Sex</th>\n",
       "      <th>ChestPain</th>\n",
       "      <th>trestbps</th>\n",
       "      <th>cholestrol</th>\n",
       "      <th>FastingBloodSugar</th>\n",
       "      <th>RestingECG</th>\n",
       "      <th>MaximumHeartRate</th>\n",
       "      <th>ExerciseInducedAngina</th>\n",
       "      <th>OldPeak</th>\n",
       "      <th>Slope</th>\n",
       "      <th>CA</th>\n",
       "      <th>thal</th>\n",
       "      <th>Target</th>\n",
       "    </tr>\n",
       "  </thead>\n",
       "  <tbody>\n",
       "    <tr>\n",
       "      <th>0</th>\n",
       "      <td>67</td>\n",
       "      <td>1</td>\n",
       "      <td>4</td>\n",
       "      <td>160</td>\n",
       "      <td>286</td>\n",
       "      <td>0</td>\n",
       "      <td>2</td>\n",
       "      <td>108</td>\n",
       "      <td>1</td>\n",
       "      <td>1.5</td>\n",
       "      <td>2</td>\n",
       "      <td>3.0</td>\n",
       "      <td>3.0</td>\n",
       "      <td>2</td>\n",
       "    </tr>\n",
       "    <tr>\n",
       "      <th>1</th>\n",
       "      <td>67</td>\n",
       "      <td>1</td>\n",
       "      <td>4</td>\n",
       "      <td>120</td>\n",
       "      <td>229</td>\n",
       "      <td>0</td>\n",
       "      <td>2</td>\n",
       "      <td>129</td>\n",
       "      <td>1</td>\n",
       "      <td>2.6</td>\n",
       "      <td>2</td>\n",
       "      <td>2.0</td>\n",
       "      <td>7.0</td>\n",
       "      <td>1</td>\n",
       "    </tr>\n",
       "    <tr>\n",
       "      <th>2</th>\n",
       "      <td>37</td>\n",
       "      <td>1</td>\n",
       "      <td>3</td>\n",
       "      <td>130</td>\n",
       "      <td>250</td>\n",
       "      <td>0</td>\n",
       "      <td>0</td>\n",
       "      <td>187</td>\n",
       "      <td>0</td>\n",
       "      <td>3.5</td>\n",
       "      <td>3</td>\n",
       "      <td>0.0</td>\n",
       "      <td>3.0</td>\n",
       "      <td>0</td>\n",
       "    </tr>\n",
       "    <tr>\n",
       "      <th>3</th>\n",
       "      <td>41</td>\n",
       "      <td>0</td>\n",
       "      <td>2</td>\n",
       "      <td>130</td>\n",
       "      <td>204</td>\n",
       "      <td>0</td>\n",
       "      <td>2</td>\n",
       "      <td>172</td>\n",
       "      <td>0</td>\n",
       "      <td>1.4</td>\n",
       "      <td>1</td>\n",
       "      <td>0.0</td>\n",
       "      <td>3.0</td>\n",
       "      <td>0</td>\n",
       "    </tr>\n",
       "    <tr>\n",
       "      <th>4</th>\n",
       "      <td>56</td>\n",
       "      <td>1</td>\n",
       "      <td>2</td>\n",
       "      <td>120</td>\n",
       "      <td>236</td>\n",
       "      <td>0</td>\n",
       "      <td>0</td>\n",
       "      <td>178</td>\n",
       "      <td>0</td>\n",
       "      <td>0.8</td>\n",
       "      <td>1</td>\n",
       "      <td>0.0</td>\n",
       "      <td>3.0</td>\n",
       "      <td>0</td>\n",
       "    </tr>\n",
       "  </tbody>\n",
       "</table>\n",
       "</div>"
      ],
      "text/plain": [
       "   Age  Sex  ChestPain  trestbps  cholestrol  FastingBloodSugar  RestingECG  \\\n",
       "0   67    1          4       160         286                  0           2   \n",
       "1   67    1          4       120         229                  0           2   \n",
       "2   37    1          3       130         250                  0           0   \n",
       "3   41    0          2       130         204                  0           2   \n",
       "4   56    1          2       120         236                  0           0   \n",
       "\n",
       "   MaximumHeartRate  ExerciseInducedAngina  OldPeak  Slope   CA  thal  Target  \n",
       "0               108                      1      1.5      2  3.0   3.0       2  \n",
       "1               129                      1      2.6      2  2.0   7.0       1  \n",
       "2               187                      0      3.5      3  0.0   3.0       0  \n",
       "3               172                      0      1.4      1  0.0   3.0       0  \n",
       "4               178                      0      0.8      1  0.0   3.0       0  "
      ]
     },
     "execution_count": 9,
     "metadata": {},
     "output_type": "execute_result"
    }
   ],
   "source": [
    "hd.head()"
   ]
  },
  {
   "cell_type": "code",
   "execution_count": null,
   "metadata": {},
   "outputs": [],
   "source": [
    "DESCRIPTION:\n",
    "\n",
    "Sex: displays the gender of the individual using the following format :\n",
    "1 = male\n",
    "0 = female\n",
    "\n",
    "Chest-pain type: displays the type of chest-pain experienced by the individual using the following format :\n",
    "1 = typical angina\n",
    "2 = atypical angina\n",
    "3 = non — anginal pain\n",
    "4 = asymptotic\n",
    "\n",
    "Fasting Blood Sugar: compares the fasting blood sugar value of an individual with 120mg/dl.\n",
    "If fasting blood sugar > 120mg/dl then : 1 (true)\n",
    "else : 0 (false)\n",
    "\n",
    "Resting ECG : displays resting electrocardiographic results\n",
    "0 = normal\n",
    "1 = having ST-T wave abnormality\n",
    "2 = left ventricular hyperthrophy\n",
    "\n",
    "Max heart rate achieved : displays the max heart rate achieved by an individual.\n",
    "Exercise induced angina :\n",
    "1 = yes\n",
    "0 = no\n",
    "\n",
    "ST depression induced by exercise relative to rest: displays the value which is an integer or float.\n",
    "Peak exercise ST segment :\n",
    "1 = upsloping\n",
    "2 = flat\n",
    "3 = downsloping\n",
    "\n",
    "Number of major vessels (0–3) colored by flourosopy : displays the value as integer or float.\n",
    "Thal : displays the thalassemia :\n",
    "3 = normal\n",
    "6 = fixed defect\n",
    "7 = reversible defect\n",
    "\n",
    "Diagnosis of heart disease : Displays whether the individual is suffering from heart disease or not :\n",
    "0 = absence\n",
    "1, 2, 3, 4 = present."
   ]
  },
  {
   "cell_type": "code",
   "execution_count": 135,
   "metadata": {},
   "outputs": [
    {
     "name": "stdout",
     "output_type": "stream",
     "text": [
      "<class 'pandas.core.frame.DataFrame'>\n",
      "RangeIndex: 302 entries, 0 to 301\n",
      "Data columns (total 14 columns):\n",
      " #   Column                 Non-Null Count  Dtype  \n",
      "---  ------                 --------------  -----  \n",
      " 0   Age                    302 non-null    int64  \n",
      " 1   Sex                    302 non-null    int64  \n",
      " 2   ChestPain              302 non-null    int64  \n",
      " 3   trestbps               302 non-null    int64  \n",
      " 4   cholestrol             302 non-null    int64  \n",
      " 5   FastingBloodSugar      302 non-null    int64  \n",
      " 6   RestingECG             302 non-null    int64  \n",
      " 7   MaximumHeartRate       302 non-null    int64  \n",
      " 8   ExerciseInducedAngina  302 non-null    int64  \n",
      " 9   OldPeak                302 non-null    float64\n",
      " 10  Slope                  302 non-null    int64  \n",
      " 11  CA                     302 non-null    float64\n",
      " 12  thal                   302 non-null    float64\n",
      " 13  Target                 302 non-null    int64  \n",
      "dtypes: float64(3), int64(11)\n",
      "memory usage: 33.2 KB\n"
     ]
    }
   ],
   "source": [
    "# Check data types and information of dataset\n",
    "\n",
    "hd.info()"
   ]
  },
  {
   "cell_type": "raw",
   "metadata": {},
   "source": [
    "OBSERVATIONS:\n",
    "1. THERE ARE 302 R0WS AND 14 COLUMNS IN THE TABLE\n",
    "2. ALL THE COLUMNS IN THE TABLE HOLD INTEGER VALUES EXCEPT THREE COLUMNS MENTIONED BELOW\n",
    "3. COLUMN NAMED OldPeak,CA and thal HOLDS FLOAT TYPE VALUES.\n",
    "    "
   ]
  },
  {
   "cell_type": "code",
   "execution_count": 180,
   "metadata": {},
   "outputs": [
    {
     "data": {
      "text/plain": [
       "Age                      0\n",
       "Sex                      0\n",
       "ChestPain                0\n",
       "trestbps                 0\n",
       "cholestrol               0\n",
       "FastingBloodSugar        0\n",
       "RestingECG               0\n",
       "MaximumHeartRate         0\n",
       "ExerciseInducedAngina    0\n",
       "OldPeak                  0\n",
       "Slope                    0\n",
       "CA                       0\n",
       "thal                     0\n",
       "Target                   0\n",
       "dtype: int64"
      ]
     },
     "execution_count": 180,
     "metadata": {},
     "output_type": "execute_result"
    }
   ],
   "source": [
    "# Checking the null values\n",
    "ht.isnull().sum()"
   ]
  },
  {
   "cell_type": "code",
   "execution_count": 181,
   "metadata": {},
   "outputs": [
    {
     "data": {
      "text/plain": [
       "<AxesSubplot:>"
      ]
     },
     "execution_count": 181,
     "metadata": {},
     "output_type": "execute_result"
    },
    {
     "data": {
      "image/png": "[encoded data removed]",
      "text/plain": [
       "<Figure size 432x288 with 2 Axes>"
      ]
     },
     "metadata": {
      "needs_background": "light"
     },
     "output_type": "display_data"
    }
   ],
   "source": [
    "#Visualizaing the null values using heatmap\n",
    "\n",
    "sns.heatmap(hd.isnull())"
   ]
  },
  {
   "cell_type": "markdown",
   "metadata": {},
   "source": [
    "# SUMMARY STATISTICS"
   ]
  },
  {
   "cell_type": "code",
   "execution_count": 182,
   "metadata": {},
   "outputs": [
    {
     "data": {
      "text/html": [
       "<div>\n",
       "<style scoped>\n",
       "    .dataframe tbody tr th:only-of-type {\n",
       "        vertical-align: middle;\n",
       "    }\n",
       "\n",
       "    .dataframe tbody tr th {\n",
       "        vertical-align: top;\n",
       "    }\n",
       "\n",
       "    .dataframe thead th {\n",
       "        text-align: right;\n",
       "    }\n",
       "</style>\n",
       "<table border=\"1\" class=\"dataframe\">\n",
       "  <thead>\n",
       "    <tr style=\"text-align: right;\">\n",
       "      <th></th>\n",
       "      <th>Age</th>\n",
       "      <th>Sex</th>\n",
       "      <th>ChestPain</th>\n",
       "      <th>trestbps</th>\n",
       "      <th>cholestrol</th>\n",
       "      <th>FastingBloodSugar</th>\n",
       "      <th>RestingECG</th>\n",
       "      <th>MaximumHeartRate</th>\n",
       "      <th>ExerciseInducedAngina</th>\n",
       "      <th>OldPeak</th>\n",
       "      <th>Slope</th>\n",
       "      <th>CA</th>\n",
       "      <th>thal</th>\n",
       "      <th>Target</th>\n",
       "    </tr>\n",
       "  </thead>\n",
       "  <tbody>\n",
       "    <tr>\n",
       "      <th>count</th>\n",
       "      <td>302.000000</td>\n",
       "      <td>302.000000</td>\n",
       "      <td>302.000000</td>\n",
       "      <td>302.000000</td>\n",
       "      <td>302.000000</td>\n",
       "      <td>302.000000</td>\n",
       "      <td>302.000000</td>\n",
       "      <td>302.000000</td>\n",
       "      <td>302.000000</td>\n",
       "      <td>302.000000</td>\n",
       "      <td>302.000000</td>\n",
       "      <td>302.000000</td>\n",
       "      <td>302.000000</td>\n",
       "      <td>302.000000</td>\n",
       "    </tr>\n",
       "    <tr>\n",
       "      <th>mean</th>\n",
       "      <td>54.410596</td>\n",
       "      <td>0.678808</td>\n",
       "      <td>3.165563</td>\n",
       "      <td>131.645695</td>\n",
       "      <td>246.738411</td>\n",
       "      <td>0.145695</td>\n",
       "      <td>0.986755</td>\n",
       "      <td>149.605960</td>\n",
       "      <td>0.327815</td>\n",
       "      <td>1.035430</td>\n",
       "      <td>1.596026</td>\n",
       "      <td>0.674497</td>\n",
       "      <td>4.730000</td>\n",
       "      <td>0.940397</td>\n",
       "    </tr>\n",
       "    <tr>\n",
       "      <th>std</th>\n",
       "      <td>9.040163</td>\n",
       "      <td>0.467709</td>\n",
       "      <td>0.953612</td>\n",
       "      <td>17.612202</td>\n",
       "      <td>51.856829</td>\n",
       "      <td>0.353386</td>\n",
       "      <td>0.994916</td>\n",
       "      <td>22.912959</td>\n",
       "      <td>0.470196</td>\n",
       "      <td>1.160723</td>\n",
       "      <td>0.611939</td>\n",
       "      <td>0.931947</td>\n",
       "      <td>1.935102</td>\n",
       "      <td>1.229384</td>\n",
       "    </tr>\n",
       "    <tr>\n",
       "      <th>min</th>\n",
       "      <td>29.000000</td>\n",
       "      <td>0.000000</td>\n",
       "      <td>1.000000</td>\n",
       "      <td>94.000000</td>\n",
       "      <td>126.000000</td>\n",
       "      <td>0.000000</td>\n",
       "      <td>0.000000</td>\n",
       "      <td>71.000000</td>\n",
       "      <td>0.000000</td>\n",
       "      <td>0.000000</td>\n",
       "      <td>1.000000</td>\n",
       "      <td>0.000000</td>\n",
       "      <td>3.000000</td>\n",
       "      <td>0.000000</td>\n",
       "    </tr>\n",
       "    <tr>\n",
       "      <th>25%</th>\n",
       "      <td>48.000000</td>\n",
       "      <td>0.000000</td>\n",
       "      <td>3.000000</td>\n",
       "      <td>120.000000</td>\n",
       "      <td>211.000000</td>\n",
       "      <td>0.000000</td>\n",
       "      <td>0.000000</td>\n",
       "      <td>133.250000</td>\n",
       "      <td>0.000000</td>\n",
       "      <td>0.000000</td>\n",
       "      <td>1.000000</td>\n",
       "      <td>0.000000</td>\n",
       "      <td>3.000000</td>\n",
       "      <td>0.000000</td>\n",
       "    </tr>\n",
       "    <tr>\n",
       "      <th>50%</th>\n",
       "      <td>55.500000</td>\n",
       "      <td>1.000000</td>\n",
       "      <td>3.000000</td>\n",
       "      <td>130.000000</td>\n",
       "      <td>241.500000</td>\n",
       "      <td>0.000000</td>\n",
       "      <td>0.500000</td>\n",
       "      <td>153.000000</td>\n",
       "      <td>0.000000</td>\n",
       "      <td>0.800000</td>\n",
       "      <td>2.000000</td>\n",
       "      <td>0.000000</td>\n",
       "      <td>3.000000</td>\n",
       "      <td>0.000000</td>\n",
       "    </tr>\n",
       "    <tr>\n",
       "      <th>75%</th>\n",
       "      <td>61.000000</td>\n",
       "      <td>1.000000</td>\n",
       "      <td>4.000000</td>\n",
       "      <td>140.000000</td>\n",
       "      <td>275.000000</td>\n",
       "      <td>0.000000</td>\n",
       "      <td>2.000000</td>\n",
       "      <td>166.000000</td>\n",
       "      <td>1.000000</td>\n",
       "      <td>1.600000</td>\n",
       "      <td>2.000000</td>\n",
       "      <td>1.000000</td>\n",
       "      <td>7.000000</td>\n",
       "      <td>2.000000</td>\n",
       "    </tr>\n",
       "    <tr>\n",
       "      <th>max</th>\n",
       "      <td>77.000000</td>\n",
       "      <td>1.000000</td>\n",
       "      <td>4.000000</td>\n",
       "      <td>200.000000</td>\n",
       "      <td>564.000000</td>\n",
       "      <td>1.000000</td>\n",
       "      <td>2.000000</td>\n",
       "      <td>202.000000</td>\n",
       "      <td>1.000000</td>\n",
       "      <td>6.200000</td>\n",
       "      <td>3.000000</td>\n",
       "      <td>3.000000</td>\n",
       "      <td>7.000000</td>\n",
       "      <td>4.000000</td>\n",
       "    </tr>\n",
       "  </tbody>\n",
       "</table>\n",
       "</div>"
      ],
      "text/plain": [
       "              Age         Sex   ChestPain    trestbps  cholestrol  \\\n",
       "count  302.000000  302.000000  302.000000  302.000000  302.000000   \n",
       "mean    54.410596    0.678808    3.165563  131.645695  246.738411   \n",
       "std      9.040163    0.467709    0.953612   17.612202   51.856829   \n",
       "min     29.000000    0.000000    1.000000   94.000000  126.000000   \n",
       "25%     48.000000    0.000000    3.000000  120.000000  211.000000   \n",
       "50%     55.500000    1.000000    3.000000  130.000000  241.500000   \n",
       "75%     61.000000    1.000000    4.000000  140.000000  275.000000   \n",
       "max     77.000000    1.000000    4.000000  200.000000  564.000000   \n",
       "\n",
       "       FastingBloodSugar  RestingECG  MaximumHeartRate  ExerciseInducedAngina  \\\n",
       "count         302.000000  302.000000        302.000000             302.000000   \n",
       "mean            0.145695    0.986755        149.605960               0.327815   \n",
       "std             0.353386    0.994916         22.912959               0.470196   \n",
       "min             0.000000    0.000000         71.000000               0.000000   \n",
       "25%             0.000000    0.000000        133.250000               0.000000   \n",
       "50%             0.000000    0.500000        153.000000               0.000000   \n",
       "75%             0.000000    2.000000        166.000000               1.000000   \n",
       "max             1.000000    2.000000        202.000000               1.000000   \n",
       "\n",
       "          OldPeak       Slope          CA        thal      Target  \n",
       "count  302.000000  302.000000  302.000000  302.000000  302.000000  \n",
       "mean     1.035430    1.596026    0.674497    4.730000    0.940397  \n",
       "std      1.160723    0.611939    0.931947    1.935102    1.229384  \n",
       "min      0.000000    1.000000    0.000000    3.000000    0.000000  \n",
       "25%      0.000000    1.000000    0.000000    3.000000    0.000000  \n",
       "50%      0.800000    2.000000    0.000000    3.000000    0.000000  \n",
       "75%      1.600000    2.000000    1.000000    7.000000    2.000000  \n",
       "max      6.200000    3.000000    3.000000    7.000000    4.000000  "
      ]
     },
     "execution_count": 182,
     "metadata": {},
     "output_type": "execute_result"
    }
   ],
   "source": [
    "hd.describe()"
   ]
  },
  {
   "cell_type": "raw",
   "metadata": {},
   "source": [
    "OBSERVATIONS:\n",
    "1.SKEWING\n",
    "2. Difference between 75% and max value is large in column trestbps, cholestrol and MaximumHeartRate also the standard deviation in these columns is large therefore chances of outliers are certain\n",
    "\n",
    "    "
   ]
  },
  {
   "cell_type": "markdown",
   "metadata": {},
   "source": [
    "# EXPLORING DATA VARIBALES"
   ]
  },
  {
   "cell_type": "code",
   "execution_count": null,
   "metadata": {},
   "outputs": [],
   "source": [
    "# Checking the unique values of the the columns\n",
    "for columns in hd.columns:\n",
    "    if hd[columns].dtype==object:\n",
    "        print(str(columns) + '-' + str(hd[columns].unique()))\n",
    "        print(hd[columns].value_counts())\n",
    "        print(\"******************************************************************************************\")"
   ]
  },
  {
   "cell_type": "markdown",
   "metadata": {},
   "source": [
    "# CORRELATION"
   ]
  },
  {
   "cell_type": "code",
   "execution_count": null,
   "metadata": {},
   "outputs": [],
   "source": [
    "hd_cor=hd.corr()\n",
    "hd_cor"
   ]
  },
  {
   "cell_type": "code",
   "execution_count": 143,
   "metadata": {},
   "outputs": [
    {
     "data": {
      "image/png": "[encoded data removed]",
      "text/plain": [
       "<Figure size 720x720 with 2 Axes>"
      ]
     },
     "metadata": {
      "needs_background": "light"
     },
     "output_type": "display_data"
    }
   ],
   "source": [
    "# VISUALIZING CORRELATION BETWEEN THE COLUMNS USING HEATMAP\n",
    "\n",
    "corr_hmap=hd.corr()\n",
    "plt.figure(figsize=(10,10))\n",
    "mask = np.zeros_like(corr_hmap, dtype=np.bool)\n",
    "mask[np.triu_indices_from(mask)]= True\n",
    "sns.heatmap(corr_hmap,annot=True, linewidths = .5,cmap = 'coolwarm', mask=mask)\n",
    "plt.show()\n",
    "\n"
   ]
  },
  {
   "cell_type": "raw",
   "metadata": {},
   "source": [
    "OBSERVATIONS:\n",
    "\n",
    "1. Target variable is negatively correlated with MaximumHeartRate\n",
    "\n",
    "2.MaximumHeartRate is having negative correlation with most of the columns "
   ]
  },
  {
   "cell_type": "markdown",
   "metadata": {},
   "source": [
    "# UNIVARIATE ANALYSIS:"
   ]
  },
  {
   "cell_type": "code",
   "execution_count": 185,
   "metadata": {},
   "outputs": [
    {
     "data": {
      "text/plain": [
       "Text(0.5, 1.0, ' CORRELATION WITH TARGET VARIBALES')"
      ]
     },
     "execution_count": 185,
     "metadata": {},
     "output_type": "execute_result"
    },
    {
     "data": {
      "image/png": "[encoded data removed]",
      "text/plain": [
       "<Figure size 576x720 with 1 Axes>"
      ]
     },
     "metadata": {
      "needs_background": "light"
     },
     "output_type": "display_data"
    }
   ],
   "source": [
    "plt.figure(figsize=(8,10))\n",
    "hd.drop('Target',axis=1).corrwith(hd['Target']).plot(kind='bar',grid=True)\n",
    "plt.xticks(rotation=20)\n",
    "plt.title(\" CORRELATION WITH TARGET VARIBALES\")"
   ]
  },
  {
   "cell_type": "raw",
   "metadata": {},
   "source": [
    "OBSERVATIONS:\n",
    "1. WE CAN SEE ONLY MAXIMUM HEART RATE IS NEGATIVELY CORRELELATED WITH TARGET VARIABLE.\n",
    "2. CA IS HIGHLY CORRELATED WITH TARGET AMONG ALL THE INPUT VARIABLES\n",
    "    "
   ]
  },
  {
   "cell_type": "markdown",
   "metadata": {},
   "source": [
    "# DATA VISUALIZATION"
   ]
  },
  {
   "cell_type": "markdown",
   "metadata": {},
   "source": [
    "UNIVARIATE ANALYSIS"
   ]
  },
  {
   "cell_type": "code",
   "execution_count": 186,
   "metadata": {},
   "outputs": [
    {
     "data": {
      "image/png": "[encoded data removed]",
      "text/plain": [
       "<Figure size 432x288 with 1 Axes>"
      ]
     },
     "metadata": {
      "needs_background": "light"
     },
     "output_type": "display_data"
    }
   ],
   "source": [
    "ages=hd['Age'].hist(bins=max(hd['Age']-min(hd['Age'])))\n",
    "mean_val=np.mean(hd['Age'])\n",
    "plt.axvline(mean_val,linewidth=4,color='black',label='mean age')\n",
    "plt.xlabel('Age')\n",
    "plt.ylabel('Count')\n",
    "plt.legend()\n",
    "plt.show()\n",
    "\n"
   ]
  },
  {
   "cell_type": "markdown",
   "metadata": {},
   "source": [
    "# HISTOGRAM PLOT FOR CONTINOUS RANDOM VARIABLE"
   ]
  },
  {
   "cell_type": "code",
   "execution_count": 187,
   "metadata": {},
   "outputs": [],
   "source": [
    "cont_feature={'Age','trestbps', 'cholestrol','MaximumHeartRate','OldPeak'}"
   ]
  },
  {
   "cell_type": "code",
   "execution_count": 188,
   "metadata": {},
   "outputs": [
    {
     "data": {
      "text/plain": [
       "[(0, 'MaximumHeartRate'),\n",
       " (1, 'cholestrol'),\n",
       " (2, 'Age'),\n",
       " (3, 'trestbps'),\n",
       " (4, 'OldPeak')]"
      ]
     },
     "execution_count": 188,
     "metadata": {},
     "output_type": "execute_result"
    }
   ],
   "source": [
    "list(enumerate(cont_feature))"
   ]
  },
  {
   "cell_type": "code",
   "execution_count": 189,
   "metadata": {},
   "outputs": [
    {
     "data": {
      "image/png": "[encoded data removed]",
      "text/plain": [
       "<Figure size 576x720 with 5 Axes>"
      ]
     },
     "metadata": {
      "needs_background": "light"
     },
     "output_type": "display_data"
    }
   ],
   "source": [
    "plt.figure(figsize=(8,10))\n",
    "for i in enumerate(cont_feature):\n",
    "        plt.subplot(2,3,i[0]+1)\n",
    "        sns.histplot(x=i[1],data=hd)\n"
   ]
  },
  {
   "cell_type": "code",
   "execution_count": 190,
   "metadata": {},
   "outputs": [
    {
     "data": {
      "text/plain": [
       "Index(['Age', 'Sex', 'ChestPain', 'trestbps', 'cholestrol',\n",
       "       'FastingBloodSugar', 'RestingECG', 'MaximumHeartRate',\n",
       "       'ExerciseInducedAngina', 'OldPeak', 'Slope', 'CA', 'thal', 'Target'],\n",
       "      dtype='object')"
      ]
     },
     "execution_count": 190,
     "metadata": {},
     "output_type": "execute_result"
    }
   ],
   "source": [
    "hd.columns"
   ]
  },
  {
   "cell_type": "markdown",
   "metadata": {},
   "source": [
    "# COUNT PLOT ON CATEGORICAL VARIABLES"
   ]
  },
  {
   "cell_type": "code",
   "execution_count": 2,
   "metadata": {},
   "outputs": [],
   "source": [
    "feature={ 'Sex', 'ChestPain',\n",
    "       'FastingBloodSugar', 'RestingECG',\n",
    "       'ExerciseInducedAngina', 'Slope', 'CA', 'thal',}"
   ]
  },
  {
   "cell_type": "code",
   "execution_count": 3,
   "metadata": {},
   "outputs": [
    {
     "data": {
      "text/plain": [
       "[(0, 'BusinessTravel'),\n",
       " (1, 'Department'),\n",
       " (2, 'EducationField'),\n",
       " (3, 'MaritalStatus'),\n",
       " (4, 'Over18'),\n",
       " (5, 'OverTime'),\n",
       " (6, 'JobRole'),\n",
       " (7, 'Attrition'),\n",
       " (8, 'Gender')]"
      ]
     },
     "execution_count": 3,
     "metadata": {},
     "output_type": "execute_result"
    }
   ],
   "source": [
    "list(enumerate(feature))"
   ]
  },
  {
   "cell_type": "code",
   "execution_count": 193,
   "metadata": {},
   "outputs": [
    {
     "data": {
      "image/png": "[encoded data removed]",
      "text/plain": [
       "<Figure size 1080x720 with 8 Axes>"
      ]
     },
     "metadata": {
      "needs_background": "light"
     },
     "output_type": "display_data"
    }
   ],
   "source": [
    "plt.figure(figsize=(15,10))\n",
    "for i in enumerate(feature):\n",
    "        plt.subplot(3,3,i[0]+1)\n",
    "        sns.countplot(i[1],data=hd)\n",
    "        \n"
   ]
  },
  {
   "cell_type": "markdown",
   "metadata": {},
   "source": [
    "# BIVARIATE ANALYSIS"
   ]
  },
  {
   "cell_type": "code",
   "execution_count": 156,
   "metadata": {},
   "outputs": [
    {
     "data": {
      "image/png": "[encoded data removed]",
      "text/plain": [
       "<Figure size 360x360 with 1 Axes>"
      ]
     },
     "metadata": {
      "needs_background": "light"
     },
     "output_type": "display_data"
    }
   ],
   "source": [
    "sns.factorplot(x='Sex',y='Target',data=hd,kind='bar',aspect=1)\n",
    "plt.title(\" Probability of Having heart disease according to gender\")\n",
    "plt.show()"
   ]
  },
  {
   "cell_type": "code",
   "execution_count": null,
   "metadata": {},
   "outputs": [],
   "source": []
  },
  {
   "cell_type": "code",
   "execution_count": 157,
   "metadata": {},
   "outputs": [
    {
     "data": {
      "image/png": "[encoded data removed]",
      "text/plain": [
       "<Figure size 432x288 with 1 Axes>"
      ]
     },
     "metadata": {
      "needs_background": "light"
     },
     "output_type": "display_data"
    }
   ],
   "source": [
    "sns.countplot(x='Sex',hue='Target',data=hd)\n",
    "plt.title('Classification of heart disease as per gender')\n",
    "plt.xlabel('0 for female and 1 for male')\n",
    "plt.ylabel('Count of People ')\n",
    "plt.show()"
   ]
  },
  {
   "cell_type": "code",
   "execution_count": 158,
   "metadata": {},
   "outputs": [
    {
     "data": {
      "image/png": "[encoded data removed]",
      "text/plain": [
       "<Figure size 432x288 with 1 Axes>"
      ]
     },
     "metadata": {
      "needs_background": "light"
     },
     "output_type": "display_data"
    }
   ],
   "source": [
    "sns.countplot(x='ChestPain',hue='Target',data=hd)\n",
    "plt.title('Classification of heart disease as per Age')\n",
    "plt.xlabel('0 for female and 1 for male')\n",
    "plt.ylabel('Count of People ')\n",
    "plt.show()"
   ]
  },
  {
   "cell_type": "code",
   "execution_count": 159,
   "metadata": {},
   "outputs": [
    {
     "data": {
      "image/png": "[encoded data removed]",
      "text/plain": [
       "<Figure size 432x288 with 1 Axes>"
      ]
     },
     "metadata": {
      "needs_background": "light"
     },
     "output_type": "display_data"
    }
   ],
   "source": [
    "sns.countplot(x='FastingBloodSugar',hue='Target',data=hd)\n",
    "plt.title('Classification of heart disease as per gender')\n",
    "plt.xlabel('0 for female and 1 for male')\n",
    "plt.ylabel('Count of People ')\n",
    "plt.show()"
   ]
  },
  {
   "cell_type": "code",
   "execution_count": 160,
   "metadata": {},
   "outputs": [
    {
     "data": {
      "text/plain": [
       "Age                     -0.203026\n",
       "Sex                     -0.769709\n",
       "ChestPain               -0.845849\n",
       "trestbps                 0.713008\n",
       "cholestrol               1.131463\n",
       "FastingBloodSugar        2.018566\n",
       "RestingECG               0.026623\n",
       "MaximumHeartRate        -0.536399\n",
       "ExerciseInducedAngina    0.737281\n",
       "OldPeak                  1.281701\n",
       "Slope                    0.503687\n",
       "CA                       1.192300\n",
       "thal                     0.251022\n",
       "Target                   1.053696\n",
       "dtype: float64"
      ]
     },
     "execution_count": 160,
     "metadata": {},
     "output_type": "execute_result"
    }
   ],
   "source": [
    "hd.skew()\n"
   ]
  },
  {
   "cell_type": "raw",
   "metadata": {},
   "source": [
    "Observation:\n",
    "\n",
    "Since skewness of all columns are in considerable limit mostly within range(-1.5 to 1.5)\n",
    "there is no need for any transformation\n",
    "\n",
    "\n",
    "    "
   ]
  },
  {
   "cell_type": "markdown",
   "metadata": {},
   "source": [
    "# PLOTTING OUTLIERS"
   ]
  },
  {
   "cell_type": "code",
   "execution_count": 161,
   "metadata": {},
   "outputs": [
    {
     "data": {
      "image/png": "[encoded data removed]",
      "text/plain": [
       "<Figure size 1080x720 with 24 Axes>"
      ]
     },
     "metadata": {
      "needs_background": "light"
     },
     "output_type": "display_data"
    }
   ],
   "source": [
    "hd.plot(kind='box',subplots=True,layout=(4,6),figsize=(15,10))\n",
    "plt.show()\n"
   ]
  },
  {
   "cell_type": "raw",
   "metadata": {},
   "source": [
    "We can visualize many outlier througg the above box plot\n",
    "Outliers are mainly present in Oldpeak,CA,FastingBloodSugar,cholestrol,trestbps and ChestPain columns"
   ]
  },
  {
   "cell_type": "code",
   "execution_count": 162,
   "metadata": {},
   "outputs": [
    {
     "data": {
      "text/plain": [
       "array([[1.39491953, 0.68787407, 0.87648065, ..., 2.49945837, 0.89549377,\n",
       "        0.86332751],\n",
       "       [1.39491953, 0.68787407, 0.87648065, ..., 1.4246552 , 1.17501206,\n",
       "        0.04856217],\n",
       "       [1.92911281, 0.68787407, 0.17390489, ..., 0.72495113, 0.89549377,\n",
       "        0.76620316],\n",
       "       ...,\n",
       "       [0.28690875, 0.68787407, 0.87648065, ..., 0.34985204, 1.17501206,\n",
       "        1.67809284],\n",
       "       [0.28690875, 1.45375447, 1.22429043, ..., 0.34985204, 0.89549377,\n",
       "        0.04856217],\n",
       "       [1.81831173, 0.68787407, 0.17390489, ..., 0.        , 0.89549377,\n",
       "        0.76620316]])"
      ]
     },
     "execution_count": 162,
     "metadata": {},
     "output_type": "execute_result"
    }
   ],
   "source": [
    "#removing outliers\n",
    "from scipy.stats import zscore\n",
    "z=np.abs(zscore(hd))\n",
    "z"
   ]
  },
  {
   "cell_type": "code",
   "execution_count": 163,
   "metadata": {},
   "outputs": [
    {
     "name": "stdout",
     "output_type": "stream",
     "text": [
      "(array([ 47,  90, 120, 122, 125, 151, 180, 187, 244], dtype=int64), array([4, 9, 4, 9, 3, 4, 4, 3, 7], dtype=int64))\n"
     ]
    }
   ],
   "source": [
    "threshold=3\n",
    "print(np.where(z>3))   # no outliers"
   ]
  },
  {
   "cell_type": "code",
   "execution_count": 164,
   "metadata": {},
   "outputs": [
    {
     "name": "stdout",
     "output_type": "stream",
     "text": [
      "3.2887506976128207\n",
      "4.456825477631818\n",
      "3.0955919993341547\n"
     ]
    }
   ],
   "source": [
    "print(z[47][4])\n",
    "print(z[90][9])\n",
    "print(z[120][4])\n",
    "\n"
   ]
  },
  {
   "cell_type": "code",
   "execution_count": 165,
   "metadata": {},
   "outputs": [
    {
     "name": "stdout",
     "output_type": "stream",
     "text": [
      "(293, 14) \t\t (302, 14)\n"
     ]
    }
   ],
   "source": [
    "#Checking the shape\n",
    "hd_new=hd[(z<3).all(axis=1)]\n",
    "print(hd_new.shape,'\\t\\t',hd.shape)"
   ]
  },
  {
   "cell_type": "raw",
   "metadata": {},
   "source": [
    "We have removed 9 rows."
   ]
  },
  {
   "cell_type": "markdown",
   "metadata": {},
   "source": [
    "# MODEL TRAINING"
   ]
  },
  {
   "cell_type": "code",
   "execution_count": 166,
   "metadata": {},
   "outputs": [
    {
     "data": {
      "text/plain": [
       "(293, 1)"
      ]
     },
     "execution_count": 166,
     "metadata": {},
     "output_type": "execute_result"
    }
   ],
   "source": [
    "\n",
    "\n",
    "y=pd.DataFrame(hd_new['Target'])\n",
    "y.shape\n"
   ]
  },
  {
   "cell_type": "code",
   "execution_count": 167,
   "metadata": {},
   "outputs": [
    {
     "data": {
      "text/plain": [
       "(293, 13)"
      ]
     },
     "execution_count": 167,
     "metadata": {},
     "output_type": "execute_result"
    }
   ],
   "source": [
    "\n",
    "hd_final=hd_new.drop(columns=['Target'])\n",
    "hd_final.shape"
   ]
  },
  {
   "cell_type": "code",
   "execution_count": 168,
   "metadata": {},
   "outputs": [],
   "source": [
    "#Scaling input varibales\n",
    "\n",
    "from sklearn.preprocessing import StandardScaler\n",
    "sc=StandardScaler()\n",
    "x=sc.fit_transform(hd_final)\n",
    "x=pd.DataFrame(x,columns=hd_final.columns)\n",
    "\n"
   ]
  },
  {
   "cell_type": "code",
   "execution_count": 169,
   "metadata": {},
   "outputs": [],
   "source": [
    "#splitting the data into train and test data\n",
    "\n",
    "x_train,x_test,y_train,y_test=train_test_split(x,y,test_size=0.33,random_state=42)\n",
    "                                              \n",
    "                                              \n"
   ]
  },
  {
   "cell_type": "code",
   "execution_count": 170,
   "metadata": {},
   "outputs": [
    {
     "name": "stdout",
     "output_type": "stream",
     "text": [
      "(196, 13) \t\t (97, 13)\n"
     ]
    }
   ],
   "source": [
    "#Checking shape \n",
    "print(x_train.shape,'\\t\\t',x_test.shape)"
   ]
  },
  {
   "cell_type": "code",
   "execution_count": 171,
   "metadata": {},
   "outputs": [
    {
     "name": "stdout",
     "output_type": "stream",
     "text": [
      "(196, 1) \t\t (97, 1)\n"
     ]
    }
   ],
   "source": [
    "print(y_train.shape,'\\t\\t',y_test.shape)"
   ]
  },
  {
   "cell_type": "code",
   "execution_count": 172,
   "metadata": {},
   "outputs": [],
   "source": [
    "#IMPORTING LIBRARY\n",
    "from sklearn.linear_model import LogisticRegression\n",
    "from sklearn.naive_bayes import GaussianNB\n",
    "from sklearn.svm import SVC\n",
    "from sklearn.tree import DecisionTreeClassifier\n",
    "from sklearn.ensemble import RandomForestClassifier\n",
    "from sklearn.metrics import accuracy_score,classification_report,confusion_matrix\n",
    "from sklearn.neighbors import KNeighborsClassifier\n",
    "from sklearn.metrics import roc_curve\n",
    "from sklearn.metrics import roc_auc_score"
   ]
  },
  {
   "cell_type": "code",
   "execution_count": 173,
   "metadata": {},
   "outputs": [
    {
     "ename": "SyntaxError",
     "evalue": "invalid syntax (<ipython-input-173-8f8678c5a5f0>, line 3)",
     "output_type": "error",
     "traceback": [
      "\u001b[1;36m  File \u001b[1;32m\"<ipython-input-173-8f8678c5a5f0>\"\u001b[1;36m, line \u001b[1;32m3\u001b[0m\n\u001b[1;33m    from sklearn.ensemble imnTreeClassifier(),GaussianNB(),RandomForestClassifier()]\u001b[0m\n\u001b[1;37m    ^\u001b[0m\n\u001b[1;31mSyntaxError\u001b[0m\u001b[1;31m:\u001b[0m invalid syntax\n"
     ]
    }
   ],
   "source": [
    "# USING ALL THE RELATED CLASSIFIERS TO TRAIN OUR MODEL AND CHECKING THE ACCURACY PARAMETERES\n",
    "model=[SVC(),KNeighborsClassifier(),DecisionTreeClassifier\n",
    "from sklearn.ensemble imnTreeClassifier(),GaussianNB(),RandomForestClassifier()]\n",
    "for m in model:\n",
    "    m.fit(x_train,y_train)\n",
    "    print('Score of',m,'-',m.score(x_train,y_train))\n",
    "    pred=m.predict(x_test)\n",
    "    print(\"ERROR:\")\n",
    "    \n",
    "    # CHECKING ALL THE PARAMETERS OF THE CLASSIFIER FOR EVALUATION\n",
    "    print('Accuracy score of',m,'is:',accuracy_score(y_test,pred))\n",
    "    print('Confusion Matrix of',m,'is:',confusion_matrix(y_test,pred))\n",
    "    print('Classification report of',m,'is:',classification_report(y_test,pred))\n",
    "    print(\"*********************************************************************\")\n",
    "    print('\\n')"
   ]
  },
  {
   "cell_type": "raw",
   "metadata": {},
   "source": [
    "Support Vector Machine Classifier(SVC) giving the best accuracy as compared to other classifiers\n",
    "Now, we will find best parameters of SVC through grid search to get better accuracy."
   ]
  },
  {
   "cell_type": "code",
   "execution_count": null,
   "metadata": {},
   "outputs": [],
   "source": [
    "# GRID SEARCH TO FIND BEST PARAMETERS OF SVC CLASSIFIER\n",
    "\n",
    "from sklearn.model_selection import GridSearchCV\n",
    "param={'kernel':('linear','poly','rbf')\n",
    "           ,'degree':[3,8]\n",
    "           ,'gamma':('auto','scale')\n",
    "           ,'coef0':[0,0.001,0.01,0.1,0.5,1,10]\n",
    "            ,'C':[1,10,20,30,40]\n",
    "           }\n"
   ]
  },
  {
   "cell_type": "code",
   "execution_count": null,
   "metadata": {},
   "outputs": [],
   "source": [
    "# FINDING BEST PARAMETERS OF SVC CLASSIFIER\n",
    "\n",
    "model=SVC()\n",
    "grid=GridSearchCV(model,param,cv=5)\n",
    "grid.fit(x_train,y_train)"
   ]
  },
  {
   "cell_type": "code",
   "execution_count": null,
   "metadata": {},
   "outputs": [],
   "source": [
    "# BEST PARAMETERS OF SVC AFTER GRID SEARCH\n",
    "grid.best_estimator_"
   ]
  },
  {
   "cell_type": "code",
   "execution_count": null,
   "metadata": {},
   "outputs": [],
   "source": [
    "# CHECKING BEST SCORE OF SVC\n",
    "grid.best_score_"
   ]
  },
  {
   "cell_type": "code",
   "execution_count": null,
   "metadata": {},
   "outputs": [],
   "source": [
    "# APPLYING BEST PARAMETERS TO SVC TO GET BETTER ACCURACY\n",
    "\n",
    "SVC_model=SVC(C=1, coef0=0, gamma='auto', kernel='linear')\n",
    "SVC_model.fit(x_train,y_train)\n",
    "print('Score of',SVC_model,'-',SVC_model.score(x_train,y_train))\n",
    "pred=SVC_model.predict(x_test)\n",
    "print(\"ERROR\")\n",
    "print('Accuracy score of',SVC_model,'is:',accuracy_score(y_test,pred))\n",
    "print('Confusion Matrix of',SVC_model,'is:',confusion_matrix(y_test,pred))\n",
    "print('Classification report of',SVC_model,'is:',classification_report(y_test,pred))\n",
    "print(\"*********************************************************************\")\n",
    "print('\\n')"
   ]
  },
  {
   "cell_type": "raw",
   "metadata": {},
   "source": [
    "OBSERVATIONS:\n",
    "\n",
    "1.WE CAN SEE ACCURACY OF SVC CLASSIFIER USING BEST PARAMETERS IS LESS THAN THE PERVIOUS ACCURACY\n",
    "\n",
    "2.HENCE, WE WILL USE THE PREVIOUS PARAMETER OF SVC TO TRAIN OUR MODEL\n",
    "\n",
    "3a) ACCURACY AFTER GRID SEARCH FOR BEST PARAMETERS: 60.82474 %\n",
    "\n",
    "3b) ACCURACY BEFORE GRID SEARCH:64.9484 \n",
    "\n",
    "4) TO AVOID OVERFITTING AND USING HIGH ACCURACY MODEL WE ARE FINALLY USING SVC WITH DEFAULT PARAMETERS"
   ]
  },
  {
   "cell_type": "markdown",
   "metadata": {},
   "source": [
    "# USING ENSEMBLE TECHNIQUE TO BOOST OUR SCORE"
   ]
  },
  {
   "cell_type": "code",
   "execution_count": null,
   "metadata": {},
   "outputs": [],
   "source": [
    "from sklearn.ensemble import AdaBoostClassifier\n",
    "from sklearn.ensemble import GradientBoostingClassifier\n",
    "from sklearn.ensemble import BaggingClassifier\n",
    "from sklearn.ensemble import ExtraTreesClassifier\n",
    "\n",
    "\n",
    "# USING ALL THE BOOSTING ALGORITHM IN LOOP:\n",
    "\n",
    "model_new=[AdaBoostClassifier(),GradientBoostingClassifier(),BaggingClassifier(),ExtraTreesClassifier()]\n",
    "for m in model_new:\n",
    "    m.fit(x_train,y_train)\n",
    "    print('Score of',m,'-',m.score(x_train,y_train))\n",
    "    pred=m.predict(x_test)\n",
    "    print(\"ERROR:\")\n",
    "    \n",
    "    # CHECKING ALL THE PARAMETERS OF THE CLASSIFIER FOR EVALUATION\n",
    "    print('Accuracy score of',m,'is:',accuracy_score(y_test,pred))\n",
    "    print('Confusion Matrix of',m,'is:',confusion_matrix(y_test,pred))\n",
    "    print('Classification report of',m,'is:',classification_report(y_test,pred))\n",
    "    print(\"*********************************************************************\")\n",
    "    print('\\n')"
   ]
  },
  {
   "cell_type": "raw",
   "metadata": {},
   "source": [
    "OBSERVATION:\n",
    "\n",
    "WE CAN CHECK THE ACCURACY SCORE OF ALL THE BOOSTING CLASSIFIERS.    \n",
    "\n",
    "CONCLUSION:\n",
    "    \n",
    "SVC CLASSIFIER IS THE BEST AMONG ALL THE MODEL WITH BEST ACCURACY SCORE.    \n",
    "    "
   ]
  },
  {
   "cell_type": "markdown",
   "metadata": {},
   "source": [
    "# SVC CLASSIFIER WITH BEST ACCURACY AMONG ALL THE MODELS:"
   ]
  },
  {
   "cell_type": "code",
   "execution_count": null,
   "metadata": {},
   "outputs": [],
   "source": [
    "m2=SVC(probability=True)\n",
    "m2.fit(x_train,y_train)\n",
    "print('Score of',m2,'-',m2.score(x_train,y_train))\n",
    "pred=m2.predict(x_test)\n",
    "print(\"ERROR:\")\n",
    " \n",
    "print('Accuracy score of',m2,'is:',accuracy_score(y_test,pred))\n",
    "print('Confusion Matrix of',m2,'is:',confusion_matrix(y_test,pred))\n",
    "print('Classification report of',m2,'is:',classification_report(y_test,pred))\n",
    "print(\"*********************************************************************\")\n",
    "print('\\n')"
   ]
  },
  {
   "cell_type": "code",
   "execution_count": null,
   "metadata": {},
   "outputs": [],
   "source": [
    "#PLOTTING CONFUSION MATRIX OF SVC CLASSIFIER\n",
    "\n",
    "con=confusion_matrix(y_test,pred)\n",
    "sns.heatmap(con,annot=True,cbar=False,cmap='Greens')\n",
    "plt.title(\"CONFUSION MATRIX OF SVC CLASSIFIER\")\n",
    "plt.show()"
   ]
  },
  {
   "cell_type": "markdown",
   "metadata": {},
   "source": [
    "AUC_ROC CURVE AND AUC SCORE"
   ]
  },
  {
   "cell_type": "code",
   "execution_count": 174,
   "metadata": {},
   "outputs": [],
   "source": [
    "\n",
    "y_pred_prob=m2.predict_proba(x_test)[:,1]\n",
    "\n"
   ]
  },
  {
   "cell_type": "code",
   "execution_count": 175,
   "metadata": {},
   "outputs": [
    {
     "data": {
      "text/plain": [
       "array([0.15251341, 0.40552236, 0.14247166, 0.10529768, 0.13570717,\n",
       "       0.22600851, 0.23075956, 0.18637919, 0.29536436, 0.1074373 ,\n",
       "       0.33480753, 0.12671353, 0.15532803, 0.10865936, 0.13650113,\n",
       "       0.36955305, 0.34688853, 0.15477743, 0.11719125, 0.13320573,\n",
       "       0.322268  , 0.32245944, 0.16134721, 0.22298094, 0.12917571,\n",
       "       0.12858827, 0.29157128, 0.11635129, 0.28824867, 0.14886201,\n",
       "       0.07249689, 0.24800942, 0.09080167, 0.17141839, 0.20364216,\n",
       "       0.2670244 , 0.28063095, 0.07897146, 0.17593915, 0.24909588,\n",
       "       0.43886365, 0.22849328, 0.17981839, 0.30884852, 0.12174474,\n",
       "       0.1396712 , 0.23078026, 0.12633271, 0.28893309, 0.10784923,\n",
       "       0.18641189, 0.1372998 , 0.10771676, 0.14126068, 0.09583438,\n",
       "       0.14677787, 0.19530072, 0.36225054, 0.21982577, 0.16077487,\n",
       "       0.12945169, 0.27891116, 0.11042222, 0.12721444, 0.29630104,\n",
       "       0.15174883, 0.20009869, 0.12530189, 0.11137793, 0.4546291 ,\n",
       "       0.19369916, 0.15086485, 0.14723955, 0.10875547, 0.16610162,\n",
       "       0.27837719, 0.16645191, 0.33187275, 0.10433448, 0.14155583,\n",
       "       0.18335638, 0.21985875, 0.09498039, 0.33484446, 0.24314569,\n",
       "       0.19785762, 0.26205506, 0.11543575, 0.12866392, 0.10343732,\n",
       "       0.12652373, 0.46403364, 0.13462089, 0.15415577, 0.2642407 ,\n",
       "       0.15526955, 0.14760701])"
      ]
     },
     "execution_count": 175,
     "metadata": {},
     "output_type": "execute_result"
    }
   ],
   "source": [
    "y_pred_prob"
   ]
  },
  {
   "cell_type": "code",
   "execution_count": 176,
   "metadata": {},
   "outputs": [
    {
     "ename": "AxisError",
     "evalue": "axis 1 is out of bounds for array of dimension 1",
     "output_type": "error",
     "traceback": [
      "\u001b[1;31m---------------------------------------------------------------------------\u001b[0m",
      "\u001b[1;31mAxisError\u001b[0m                                 Traceback (most recent call last)",
      "\u001b[1;32m<ipython-input-176-c8cac2a79e4e>\u001b[0m in \u001b[0;36m<module>\u001b[1;34m\u001b[0m\n\u001b[1;32m----> 1\u001b[1;33m \u001b[0mroc_auc_score\u001b[0m\u001b[1;33m(\u001b[0m\u001b[0my_test\u001b[0m\u001b[1;33m,\u001b[0m\u001b[0my_pred_prob\u001b[0m\u001b[1;33m,\u001b[0m\u001b[0mmulti_class\u001b[0m\u001b[1;33m=\u001b[0m\u001b[1;34m\"ovr\"\u001b[0m\u001b[1;33m)\u001b[0m\u001b[1;33m\u001b[0m\u001b[1;33m\u001b[0m\u001b[0m\n\u001b[0m",
      "\u001b[1;32m~\\anaconda3\\lib\\site-packages\\sklearn\\utils\\validation.py\u001b[0m in \u001b[0;36minner_f\u001b[1;34m(*args, **kwargs)\u001b[0m\n\u001b[0;32m     70\u001b[0m                           FutureWarning)\n\u001b[0;32m     71\u001b[0m         \u001b[0mkwargs\u001b[0m\u001b[1;33m.\u001b[0m\u001b[0mupdate\u001b[0m\u001b[1;33m(\u001b[0m\u001b[1;33m{\u001b[0m\u001b[0mk\u001b[0m\u001b[1;33m:\u001b[0m \u001b[0marg\u001b[0m \u001b[1;32mfor\u001b[0m \u001b[0mk\u001b[0m\u001b[1;33m,\u001b[0m \u001b[0marg\u001b[0m \u001b[1;32min\u001b[0m \u001b[0mzip\u001b[0m\u001b[1;33m(\u001b[0m\u001b[0msig\u001b[0m\u001b[1;33m.\u001b[0m\u001b[0mparameters\u001b[0m\u001b[1;33m,\u001b[0m \u001b[0margs\u001b[0m\u001b[1;33m)\u001b[0m\u001b[1;33m}\u001b[0m\u001b[1;33m)\u001b[0m\u001b[1;33m\u001b[0m\u001b[1;33m\u001b[0m\u001b[0m\n\u001b[1;32m---> 72\u001b[1;33m         \u001b[1;32mreturn\u001b[0m \u001b[0mf\u001b[0m\u001b[1;33m(\u001b[0m\u001b[1;33m**\u001b[0m\u001b[0mkwargs\u001b[0m\u001b[1;33m)\u001b[0m\u001b[1;33m\u001b[0m\u001b[1;33m\u001b[0m\u001b[0m\n\u001b[0m\u001b[0;32m     73\u001b[0m     \u001b[1;32mreturn\u001b[0m \u001b[0minner_f\u001b[0m\u001b[1;33m\u001b[0m\u001b[1;33m\u001b[0m\u001b[0m\n\u001b[0;32m     74\u001b[0m \u001b[1;33m\u001b[0m\u001b[0m\n",
      "\u001b[1;32m~\\anaconda3\\lib\\site-packages\\sklearn\\metrics\\_ranking.py\u001b[0m in \u001b[0;36mroc_auc_score\u001b[1;34m(y_true, y_score, average, sample_weight, max_fpr, multi_class, labels)\u001b[0m\n\u001b[0;32m    383\u001b[0m         \u001b[1;32mif\u001b[0m \u001b[0mmulti_class\u001b[0m \u001b[1;33m==\u001b[0m \u001b[1;34m'raise'\u001b[0m\u001b[1;33m:\u001b[0m\u001b[1;33m\u001b[0m\u001b[1;33m\u001b[0m\u001b[0m\n\u001b[0;32m    384\u001b[0m             \u001b[1;32mraise\u001b[0m \u001b[0mValueError\u001b[0m\u001b[1;33m(\u001b[0m\u001b[1;34m\"multi_class must be in ('ovo', 'ovr')\"\u001b[0m\u001b[1;33m)\u001b[0m\u001b[1;33m\u001b[0m\u001b[1;33m\u001b[0m\u001b[0m\n\u001b[1;32m--> 385\u001b[1;33m         return _multiclass_roc_auc_score(y_true, y_score, labels,\n\u001b[0m\u001b[0;32m    386\u001b[0m                                          multi_class, average, sample_weight)\n\u001b[0;32m    387\u001b[0m     \u001b[1;32melif\u001b[0m \u001b[0my_type\u001b[0m \u001b[1;33m==\u001b[0m \u001b[1;34m\"binary\"\u001b[0m\u001b[1;33m:\u001b[0m\u001b[1;33m\u001b[0m\u001b[1;33m\u001b[0m\u001b[0m\n",
      "\u001b[1;32m~\\anaconda3\\lib\\site-packages\\sklearn\\metrics\\_ranking.py\u001b[0m in \u001b[0;36m_multiclass_roc_auc_score\u001b[1;34m(y_true, y_score, labels, multi_class, average, sample_weight)\u001b[0m\n\u001b[0;32m    441\u001b[0m     \"\"\"\n\u001b[0;32m    442\u001b[0m     \u001b[1;31m# validation of the input y_score\u001b[0m\u001b[1;33m\u001b[0m\u001b[1;33m\u001b[0m\u001b[1;33m\u001b[0m\u001b[0m\n\u001b[1;32m--> 443\u001b[1;33m     \u001b[1;32mif\u001b[0m \u001b[1;32mnot\u001b[0m \u001b[0mnp\u001b[0m\u001b[1;33m.\u001b[0m\u001b[0mallclose\u001b[0m\u001b[1;33m(\u001b[0m\u001b[1;36m1\u001b[0m\u001b[1;33m,\u001b[0m \u001b[0my_score\u001b[0m\u001b[1;33m.\u001b[0m\u001b[0msum\u001b[0m\u001b[1;33m(\u001b[0m\u001b[0maxis\u001b[0m\u001b[1;33m=\u001b[0m\u001b[1;36m1\u001b[0m\u001b[1;33m)\u001b[0m\u001b[1;33m)\u001b[0m\u001b[1;33m:\u001b[0m\u001b[1;33m\u001b[0m\u001b[1;33m\u001b[0m\u001b[0m\n\u001b[0m\u001b[0;32m    444\u001b[0m         raise ValueError(\n\u001b[0;32m    445\u001b[0m             \u001b[1;34m\"Target scores need to be probabilities for multiclass \"\u001b[0m\u001b[1;33m\u001b[0m\u001b[1;33m\u001b[0m\u001b[0m\n",
      "\u001b[1;32m~\\anaconda3\\lib\\site-packages\\numpy\\core\\_methods.py\u001b[0m in \u001b[0;36m_sum\u001b[1;34m(a, axis, dtype, out, keepdims, initial, where)\u001b[0m\n\u001b[0;32m     45\u001b[0m def _sum(a, axis=None, dtype=None, out=None, keepdims=False,\n\u001b[0;32m     46\u001b[0m          initial=_NoValue, where=True):\n\u001b[1;32m---> 47\u001b[1;33m     \u001b[1;32mreturn\u001b[0m \u001b[0mumr_sum\u001b[0m\u001b[1;33m(\u001b[0m\u001b[0ma\u001b[0m\u001b[1;33m,\u001b[0m \u001b[0maxis\u001b[0m\u001b[1;33m,\u001b[0m \u001b[0mdtype\u001b[0m\u001b[1;33m,\u001b[0m \u001b[0mout\u001b[0m\u001b[1;33m,\u001b[0m \u001b[0mkeepdims\u001b[0m\u001b[1;33m,\u001b[0m \u001b[0minitial\u001b[0m\u001b[1;33m,\u001b[0m \u001b[0mwhere\u001b[0m\u001b[1;33m)\u001b[0m\u001b[1;33m\u001b[0m\u001b[1;33m\u001b[0m\u001b[0m\n\u001b[0m\u001b[0;32m     48\u001b[0m \u001b[1;33m\u001b[0m\u001b[0m\n\u001b[0;32m     49\u001b[0m def _prod(a, axis=None, dtype=None, out=None, keepdims=False,\n",
      "\u001b[1;31mAxisError\u001b[0m: axis 1 is out of bounds for array of dimension 1"
     ]
    }
   ],
   "source": [
    "roc_auc_score(y_test,y_pred_prob,multi_class=\"ovr\")\n"
   ]
  },
  {
   "cell_type": "code",
   "execution_count": 177,
   "metadata": {},
   "outputs": [
    {
     "data": {
      "text/plain": [
       "'0.23.2'"
      ]
     },
     "execution_count": 177,
     "metadata": {},
     "output_type": "execute_result"
    }
   ],
   "source": [
    "import sklearn\n",
    "sklearn.__version__"
   ]
  },
  {
   "cell_type": "code",
   "execution_count": 132,
   "metadata": {},
   "outputs": [
    {
     "ename": "ValueError",
     "evalue": "multiclass format is not supported",
     "output_type": "error",
     "traceback": [
      "\u001b[1;31m---------------------------------------------------------------------------\u001b[0m",
      "\u001b[1;31mValueError\u001b[0m                                Traceback (most recent call last)",
      "\u001b[1;32m<ipython-input-132-f718fc901692>\u001b[0m in \u001b[0;36m<module>\u001b[1;34m\u001b[0m\n\u001b[1;32m----> 1\u001b[1;33m \u001b[0mfpr\u001b[0m\u001b[1;33m,\u001b[0m\u001b[0mtpr\u001b[0m\u001b[1;33m=\u001b[0m\u001b[0mroc_curve\u001b[0m\u001b[1;33m(\u001b[0m\u001b[0my_test\u001b[0m\u001b[1;33m,\u001b[0m\u001b[0my_pred_prob\u001b[0m\u001b[1;33m)\u001b[0m\u001b[1;33m\u001b[0m\u001b[1;33m\u001b[0m\u001b[0m\n\u001b[0m\u001b[0;32m      2\u001b[0m \u001b[1;33m\u001b[0m\u001b[0m\n",
      "\u001b[1;32m~\\anaconda3\\lib\\site-packages\\sklearn\\utils\\validation.py\u001b[0m in \u001b[0;36minner_f\u001b[1;34m(*args, **kwargs)\u001b[0m\n\u001b[0;32m     70\u001b[0m                           FutureWarning)\n\u001b[0;32m     71\u001b[0m         \u001b[0mkwargs\u001b[0m\u001b[1;33m.\u001b[0m\u001b[0mupdate\u001b[0m\u001b[1;33m(\u001b[0m\u001b[1;33m{\u001b[0m\u001b[0mk\u001b[0m\u001b[1;33m:\u001b[0m \u001b[0marg\u001b[0m \u001b[1;32mfor\u001b[0m \u001b[0mk\u001b[0m\u001b[1;33m,\u001b[0m \u001b[0marg\u001b[0m \u001b[1;32min\u001b[0m \u001b[0mzip\u001b[0m\u001b[1;33m(\u001b[0m\u001b[0msig\u001b[0m\u001b[1;33m.\u001b[0m\u001b[0mparameters\u001b[0m\u001b[1;33m,\u001b[0m \u001b[0margs\u001b[0m\u001b[1;33m)\u001b[0m\u001b[1;33m}\u001b[0m\u001b[1;33m)\u001b[0m\u001b[1;33m\u001b[0m\u001b[1;33m\u001b[0m\u001b[0m\n\u001b[1;32m---> 72\u001b[1;33m         \u001b[1;32mreturn\u001b[0m \u001b[0mf\u001b[0m\u001b[1;33m(\u001b[0m\u001b[1;33m**\u001b[0m\u001b[0mkwargs\u001b[0m\u001b[1;33m)\u001b[0m\u001b[1;33m\u001b[0m\u001b[1;33m\u001b[0m\u001b[0m\n\u001b[0m\u001b[0;32m     73\u001b[0m     \u001b[1;32mreturn\u001b[0m \u001b[0minner_f\u001b[0m\u001b[1;33m\u001b[0m\u001b[1;33m\u001b[0m\u001b[0m\n\u001b[0;32m     74\u001b[0m \u001b[1;33m\u001b[0m\u001b[0m\n",
      "\u001b[1;32m~\\anaconda3\\lib\\site-packages\\sklearn\\metrics\\_ranking.py\u001b[0m in \u001b[0;36mroc_curve\u001b[1;34m(y_true, y_score, pos_label, sample_weight, drop_intermediate)\u001b[0m\n\u001b[0;32m    773\u001b[0m \u001b[1;33m\u001b[0m\u001b[0m\n\u001b[0;32m    774\u001b[0m     \"\"\"\n\u001b[1;32m--> 775\u001b[1;33m     fps, tps, thresholds = _binary_clf_curve(\n\u001b[0m\u001b[0;32m    776\u001b[0m         y_true, y_score, pos_label=pos_label, sample_weight=sample_weight)\n\u001b[0;32m    777\u001b[0m \u001b[1;33m\u001b[0m\u001b[0m\n",
      "\u001b[1;32m~\\anaconda3\\lib\\site-packages\\sklearn\\metrics\\_ranking.py\u001b[0m in \u001b[0;36m_binary_clf_curve\u001b[1;34m(y_true, y_score, pos_label, sample_weight)\u001b[0m\n\u001b[0;32m    537\u001b[0m     if not (y_type == \"binary\" or\n\u001b[0;32m    538\u001b[0m             (y_type == \"multiclass\" and pos_label is not None)):\n\u001b[1;32m--> 539\u001b[1;33m         \u001b[1;32mraise\u001b[0m \u001b[0mValueError\u001b[0m\u001b[1;33m(\u001b[0m\u001b[1;34m\"{0} format is not supported\"\u001b[0m\u001b[1;33m.\u001b[0m\u001b[0mformat\u001b[0m\u001b[1;33m(\u001b[0m\u001b[0my_type\u001b[0m\u001b[1;33m)\u001b[0m\u001b[1;33m)\u001b[0m\u001b[1;33m\u001b[0m\u001b[1;33m\u001b[0m\u001b[0m\n\u001b[0m\u001b[0;32m    540\u001b[0m \u001b[1;33m\u001b[0m\u001b[0m\n\u001b[0;32m    541\u001b[0m     \u001b[0mcheck_consistent_length\u001b[0m\u001b[1;33m(\u001b[0m\u001b[0my_true\u001b[0m\u001b[1;33m,\u001b[0m \u001b[0my_score\u001b[0m\u001b[1;33m,\u001b[0m \u001b[0msample_weight\u001b[0m\u001b[1;33m)\u001b[0m\u001b[1;33m\u001b[0m\u001b[1;33m\u001b[0m\u001b[0m\n",
      "\u001b[1;31mValueError\u001b[0m: multiclass format is not supported"
     ]
    }
   ],
   "source": [
    "fpr,tpr=roc_curve(y_test,y_pred_prob)\n",
    "\n"
   ]
  },
  {
   "cell_type": "code",
   "execution_count": null,
   "metadata": {},
   "outputs": [],
   "source": [
    "\n"
   ]
  }
 ],
 "metadata": {
  "kernelspec": {
   "display_name": "Python 3",
   "language": "python",
   "name": "python3"
  },
  "language_info": {
   "codemirror_mode": {
    "name": "ipython",
    "version": 3
   },
   "file_extension": ".py",
   "mimetype": "text/x-python",
   "name": "python",
   "nbconvert_exporter": "python",
   "pygments_lexer": "ipython3",
   "version": "3.8.5"
  }
 },
 "nbformat": 4,
 "nbformat_minor": 4
}
