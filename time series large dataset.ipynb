{
 "cells": [
  {
   "cell_type": "code",
   "execution_count": 1,
   "metadata": {},
   "outputs": [
    {
     "name": "stderr",
     "output_type": "stream",
     "text": [
      "<ipython-input-1-5b905e6ca903>:2: FutureWarning: The pandas.datetime class is deprecated and will be removed from pandas in a future version. Import from datetime module instead.\n",
      "  from pandas import datetime\n"
     ]
    }
   ],
   "source": [
    "import pandas as pd\n",
    "from pandas import datetime\n",
    "import matplotlib.pyplot as plt\n",
    "import warnings\n",
    "warnings.filterwarnings('ignore')"
   ]
  },
  {
   "cell_type": "code",
   "execution_count": 15,
   "metadata": {},
   "outputs": [],
   "source": [
    "import pandas as pd\n",
    "import numpy as np\n",
    "import datetime as dt\n",
    "import matplotlib.pyplot as plt\n",
    "from sklearn.preprocessing import LabelEncoder, StandardScaler\n",
    "from sklearn.model_selection import train_test_split\n",
    "from sklearn.metrics import accuracy_score, classification_report, confusion_matrix\n",
    "import itertools\n",
    "import statsmodels.api as sm"
   ]
  },
  {
   "cell_type": "code",
   "execution_count": 2,
   "metadata": {},
   "outputs": [],
   "source": [
    "data = pd.read_csv('INCIDENT MANAGEMENT.csv')"
   ]
  },
  {
   "cell_type": "code",
   "execution_count": 4,
   "metadata": {},
   "outputs": [
    {
     "data": {
      "text/plain": [
       "Index(['Unnamed: 0', 'number', 'incident_state', 'active',\n",
       "       'reassignment_count', 'reopen_count', 'sys_mod_count', 'made_sla',\n",
       "       'caller_id', 'opened_by', 'opened_at', 'sys_created_by',\n",
       "       'sys_created_at', 'sys_updated_by', 'sys_updated_at', 'contact_type',\n",
       "       'location', 'category', 'subcategory', 'u_symptom', 'impact', 'urgency',\n",
       "       'priority', 'assignment_group', 'assigned_to', 'knowledge',\n",
       "       'u_priority_confirmation', 'notify', 'closed_code', 'resolved_by',\n",
       "       'resolved_at', 'closed_at', 'ticket_life', 'sys_created + temp_mean',\n",
       "       'new2'],\n",
       "      dtype='object')"
      ]
     },
     "execution_count": 4,
     "metadata": {},
     "output_type": "execute_result"
    }
   ],
   "source": [
    "data.columns"
   ]
  },
  {
   "cell_type": "code",
   "execution_count": 8,
   "metadata": {},
   "outputs": [
    {
     "data": {
      "text/plain": [
       "0"
      ]
     },
     "execution_count": 8,
     "metadata": {},
     "output_type": "execute_result"
    }
   ],
   "source": [
    "data['opened_at'].isnull().sum()"
   ]
  },
  {
   "cell_type": "code",
   "execution_count": 9,
   "metadata": {},
   "outputs": [],
   "source": [
    "incfrq = data.loc[:,['number','opened_at']]"
   ]
  },
  {
   "cell_type": "code",
   "execution_count": 13,
   "metadata": {},
   "outputs": [
    {
     "data": {
      "text/html": [
       "<div>\n",
       "<style scoped>\n",
       "    .dataframe tbody tr th:only-of-type {\n",
       "        vertical-align: middle;\n",
       "    }\n",
       "\n",
       "    .dataframe tbody tr th {\n",
       "        vertical-align: top;\n",
       "    }\n",
       "\n",
       "    .dataframe thead th {\n",
       "        text-align: right;\n",
       "    }\n",
       "</style>\n",
       "<table border=\"1\" class=\"dataframe\">\n",
       "  <thead>\n",
       "    <tr style=\"text-align: right;\">\n",
       "      <th></th>\n",
       "      <th>number</th>\n",
       "      <th>opened_at</th>\n",
       "    </tr>\n",
       "  </thead>\n",
       "  <tbody>\n",
       "    <tr>\n",
       "      <th>73657</th>\n",
       "      <td>INC0029231</td>\n",
       "      <td>2016-05-13 11:46:00.000000</td>\n",
       "    </tr>\n",
       "    <tr>\n",
       "      <th>73658</th>\n",
       "      <td>INC0029231</td>\n",
       "      <td>2016-05-13 11:46:00.000000</td>\n",
       "    </tr>\n",
       "    <tr>\n",
       "      <th>73659</th>\n",
       "      <td>INC0029232</td>\n",
       "      <td>2016-05-13 11:48:00.000000</td>\n",
       "    </tr>\n",
       "    <tr>\n",
       "      <th>73660</th>\n",
       "      <td>INC0029232</td>\n",
       "      <td>2016-05-13 11:48:00.000000</td>\n",
       "    </tr>\n",
       "    <tr>\n",
       "      <th>73661</th>\n",
       "      <td>INC0029233</td>\n",
       "      <td>2016-05-13 11:49:00.000000</td>\n",
       "    </tr>\n",
       "  </tbody>\n",
       "</table>\n",
       "</div>"
      ],
      "text/plain": [
       "           number                   opened_at\n",
       "73657  INC0029231  2016-05-13 11:46:00.000000\n",
       "73658  INC0029231  2016-05-13 11:46:00.000000\n",
       "73659  INC0029232  2016-05-13 11:48:00.000000\n",
       "73660  INC0029232  2016-05-13 11:48:00.000000\n",
       "73661  INC0029233  2016-05-13 11:49:00.000000"
      ]
     },
     "execution_count": 13,
     "metadata": {},
     "output_type": "execute_result"
    }
   ],
   "source": [
    "incfrq.tail()"
   ]
  },
  {
   "cell_type": "code",
   "execution_count": 12,
   "metadata": {},
   "outputs": [
    {
     "data": {
      "text/plain": [
       "(73662, 2)"
      ]
     },
     "execution_count": 12,
     "metadata": {},
     "output_type": "execute_result"
    }
   ],
   "source": [
    "incfrq.shape   "
   ]
  },
  {
   "cell_type": "code",
   "execution_count": 25,
   "metadata": {},
   "outputs": [],
   "source": [
    "# Coverting all the values in proper Datetime format\n",
    "for i in range(len(incfrq.opened_at)): \n",
    "        incfrq.opened_at[i] = dt.datetime.strptime(incfrq.opened_at[i],'%Y-%m-%d %H:%M:%S.%f').date()"
   ]
  },
  {
   "cell_type": "code",
   "execution_count": 26,
   "metadata": {},
   "outputs": [
    {
     "data": {
      "text/html": [
       "<div>\n",
       "<style scoped>\n",
       "    .dataframe tbody tr th:only-of-type {\n",
       "        vertical-align: middle;\n",
       "    }\n",
       "\n",
       "    .dataframe tbody tr th {\n",
       "        vertical-align: top;\n",
       "    }\n",
       "\n",
       "    .dataframe thead th {\n",
       "        text-align: right;\n",
       "    }\n",
       "</style>\n",
       "<table border=\"1\" class=\"dataframe\">\n",
       "  <thead>\n",
       "    <tr style=\"text-align: right;\">\n",
       "      <th></th>\n",
       "      <th>number</th>\n",
       "      <th>opened_at</th>\n",
       "    </tr>\n",
       "  </thead>\n",
       "  <tbody>\n",
       "    <tr>\n",
       "      <th>0</th>\n",
       "      <td>INC0000045</td>\n",
       "      <td>2016-02-29</td>\n",
       "    </tr>\n",
       "    <tr>\n",
       "      <th>1</th>\n",
       "      <td>INC0000045</td>\n",
       "      <td>2016-02-29</td>\n",
       "    </tr>\n",
       "    <tr>\n",
       "      <th>2</th>\n",
       "      <td>INC0000045</td>\n",
       "      <td>2016-02-29</td>\n",
       "    </tr>\n",
       "    <tr>\n",
       "      <th>3</th>\n",
       "      <td>INC0000045</td>\n",
       "      <td>2016-02-29</td>\n",
       "    </tr>\n",
       "    <tr>\n",
       "      <th>4</th>\n",
       "      <td>INC0000047</td>\n",
       "      <td>2016-02-29</td>\n",
       "    </tr>\n",
       "  </tbody>\n",
       "</table>\n",
       "</div>"
      ],
      "text/plain": [
       "       number   opened_at\n",
       "0  INC0000045  2016-02-29\n",
       "1  INC0000045  2016-02-29\n",
       "2  INC0000045  2016-02-29\n",
       "3  INC0000045  2016-02-29\n",
       "4  INC0000047  2016-02-29"
      ]
     },
     "execution_count": 26,
     "metadata": {},
     "output_type": "execute_result"
    }
   ],
   "source": [
    "incfrq.head()"
   ]
  },
  {
   "cell_type": "code",
   "execution_count": 31,
   "metadata": {},
   "outputs": [
    {
     "data": {
      "text/plain": [
       "number       object\n",
       "opened_at    object\n",
       "dtype: object"
      ]
     },
     "execution_count": 31,
     "metadata": {},
     "output_type": "execute_result"
    }
   ],
   "source": [
    "incfrq.dtypes"
   ]
  },
  {
   "cell_type": "code",
   "execution_count": 37,
   "metadata": {},
   "outputs": [],
   "source": [
    "incfrq['opened_at']=pd.to_datetime(incfrq['opened_at'])"
   ]
  },
  {
   "cell_type": "code",
   "execution_count": 38,
   "metadata": {},
   "outputs": [
    {
     "data": {
      "text/html": [
       "<div>\n",
       "<style scoped>\n",
       "    .dataframe tbody tr th:only-of-type {\n",
       "        vertical-align: middle;\n",
       "    }\n",
       "\n",
       "    .dataframe tbody tr th {\n",
       "        vertical-align: top;\n",
       "    }\n",
       "\n",
       "    .dataframe thead th {\n",
       "        text-align: right;\n",
       "    }\n",
       "</style>\n",
       "<table border=\"1\" class=\"dataframe\">\n",
       "  <thead>\n",
       "    <tr style=\"text-align: right;\">\n",
       "      <th></th>\n",
       "      <th>number</th>\n",
       "      <th>opened_at</th>\n",
       "    </tr>\n",
       "  </thead>\n",
       "  <tbody>\n",
       "    <tr>\n",
       "      <th>0</th>\n",
       "      <td>INC0000045</td>\n",
       "      <td>2016-02-29</td>\n",
       "    </tr>\n",
       "    <tr>\n",
       "      <th>1</th>\n",
       "      <td>INC0000045</td>\n",
       "      <td>2016-02-29</td>\n",
       "    </tr>\n",
       "    <tr>\n",
       "      <th>2</th>\n",
       "      <td>INC0000045</td>\n",
       "      <td>2016-02-29</td>\n",
       "    </tr>\n",
       "    <tr>\n",
       "      <th>3</th>\n",
       "      <td>INC0000045</td>\n",
       "      <td>2016-02-29</td>\n",
       "    </tr>\n",
       "    <tr>\n",
       "      <th>4</th>\n",
       "      <td>INC0000047</td>\n",
       "      <td>2016-02-29</td>\n",
       "    </tr>\n",
       "  </tbody>\n",
       "</table>\n",
       "</div>"
      ],
      "text/plain": [
       "       number  opened_at\n",
       "0  INC0000045 2016-02-29\n",
       "1  INC0000045 2016-02-29\n",
       "2  INC0000045 2016-02-29\n",
       "3  INC0000045 2016-02-29\n",
       "4  INC0000047 2016-02-29"
      ]
     },
     "execution_count": 38,
     "metadata": {},
     "output_type": "execute_result"
    }
   ],
   "source": [
    "incfrq.head()"
   ]
  },
  {
   "cell_type": "code",
   "execution_count": 39,
   "metadata": {},
   "outputs": [
    {
     "data": {
      "text/plain": [
       "Index(['number', 'opened_at'], dtype='object')"
      ]
     },
     "execution_count": 39,
     "metadata": {},
     "output_type": "execute_result"
    }
   ],
   "source": [
    "incfrq.columns"
   ]
  },
  {
   "cell_type": "code",
   "execution_count": 42,
   "metadata": {},
   "outputs": [
    {
     "data": {
      "text/plain": [
       "number               object\n",
       "opened_at    datetime64[ns]\n",
       "dtype: object"
      ]
     },
     "execution_count": 42,
     "metadata": {},
     "output_type": "execute_result"
    }
   ],
   "source": [
    "incfrq.dtypes"
   ]
  },
  {
   "cell_type": "code",
   "execution_count": 43,
   "metadata": {},
   "outputs": [],
   "source": [
    "# Adding a new column which will have the number of tickets per day\n",
    "incfrq['No_Incidents'] = incfrq.groupby('opened_at')['number'].transform('count')"
   ]
  },
  {
   "cell_type": "code",
   "execution_count": 44,
   "metadata": {},
   "outputs": [],
   "source": [
    "incfrq.drop(['number'],axis=1,inplace=True)\n",
    "incfrq.drop_duplicates(inplace=True)"
   ]
  },
  {
   "cell_type": "code",
   "execution_count": 45,
   "metadata": {},
   "outputs": [
    {
     "data": {
      "text/html": [
       "<div>\n",
       "<style scoped>\n",
       "    .dataframe tbody tr th:only-of-type {\n",
       "        vertical-align: middle;\n",
       "    }\n",
       "\n",
       "    .dataframe tbody tr th {\n",
       "        vertical-align: top;\n",
       "    }\n",
       "\n",
       "    .dataframe thead th {\n",
       "        text-align: right;\n",
       "    }\n",
       "</style>\n",
       "<table border=\"1\" class=\"dataframe\">\n",
       "  <thead>\n",
       "    <tr style=\"text-align: right;\">\n",
       "      <th></th>\n",
       "      <th>opened_at</th>\n",
       "      <th>No_Incidents</th>\n",
       "    </tr>\n",
       "  </thead>\n",
       "  <tbody>\n",
       "    <tr>\n",
       "      <th>0</th>\n",
       "      <td>2016-02-29</td>\n",
       "      <td>1314</td>\n",
       "    </tr>\n",
       "    <tr>\n",
       "      <th>1314</th>\n",
       "      <td>2016-01-03</td>\n",
       "      <td>2198</td>\n",
       "    </tr>\n",
       "    <tr>\n",
       "      <th>3512</th>\n",
       "      <td>2016-02-03</td>\n",
       "      <td>3152</td>\n",
       "    </tr>\n",
       "    <tr>\n",
       "      <th>6664</th>\n",
       "      <td>2016-03-03</td>\n",
       "      <td>2763</td>\n",
       "    </tr>\n",
       "    <tr>\n",
       "      <th>9427</th>\n",
       "      <td>2016-04-03</td>\n",
       "      <td>751</td>\n",
       "    </tr>\n",
       "  </tbody>\n",
       "</table>\n",
       "</div>"
      ],
      "text/plain": [
       "      opened_at  No_Incidents\n",
       "0    2016-02-29          1314\n",
       "1314 2016-01-03          2198\n",
       "3512 2016-02-03          3152\n",
       "6664 2016-03-03          2763\n",
       "9427 2016-04-03           751"
      ]
     },
     "execution_count": 45,
     "metadata": {},
     "output_type": "execute_result"
    }
   ],
   "source": [
    "incfrq.head()"
   ]
  },
  {
   "cell_type": "code",
   "execution_count": 46,
   "metadata": {},
   "outputs": [],
   "source": [
    "incfrq = incfrq.set_index('opened_at')"
   ]
  },
  {
   "cell_type": "code",
   "execution_count": 47,
   "metadata": {},
   "outputs": [
    {
     "data": {
      "text/plain": [
       "DatetimeIndex(['2016-02-29', '2016-01-03', '2016-02-03', '2016-03-03',\n",
       "               '2016-04-03', '2016-05-03', '2016-07-03', '2016-08-03',\n",
       "               '2016-09-03', '2016-10-03', '2016-11-03', '2016-12-03',\n",
       "               '2016-03-13', '2016-03-14', '2016-03-15', '2016-03-16',\n",
       "               '2016-03-17', '2016-03-18', '2016-03-19', '2016-03-20',\n",
       "               '2016-03-21', '2016-03-22', '2016-03-23', '2016-03-24',\n",
       "               '2016-03-25', '2016-03-26', '2016-03-27', '2016-03-28',\n",
       "               '2016-03-29', '2016-03-30', '2016-03-31', '2016-01-04',\n",
       "               '2016-02-04', '2016-03-04', '2016-04-04', '2016-05-04',\n",
       "               '2016-06-04', '2016-07-04', '2016-08-04', '2016-11-04',\n",
       "               '2016-12-04', '2016-04-13', '2016-04-14', '2016-04-15',\n",
       "               '2016-04-16', '2016-04-17', '2016-04-18', '2016-04-19',\n",
       "               '2016-04-20', '2016-04-21', '2016-04-22', '2016-04-23',\n",
       "               '2016-04-24', '2016-04-25', '2016-04-26', '2016-04-27',\n",
       "               '2016-04-28', '2016-04-29', '2016-04-30', '2016-01-05',\n",
       "               '2016-02-05', '2016-03-05', '2016-04-05', '2016-05-05',\n",
       "               '2016-06-05', '2016-07-05', '2016-09-05', '2016-10-05',\n",
       "               '2016-11-05', '2016-12-05', '2016-05-13'],\n",
       "              dtype='datetime64[ns]', name='opened_at', freq=None)"
      ]
     },
     "execution_count": 47,
     "metadata": {},
     "output_type": "execute_result"
    }
   ],
   "source": [
    "incfrq.index"
   ]
  },
  {
   "cell_type": "code",
   "execution_count": 48,
   "metadata": {},
   "outputs": [
    {
     "data": {
      "image/png": "[encoded data removed]",
      "text/plain": [
       "<Figure size 1080x432 with 1 Axes>"
      ]
     },
     "metadata": {
      "needs_background": "light"
     },
     "output_type": "display_data"
    }
   ],
   "source": [
    "# Plotting number of tickets per day\n",
    "incfrq.plot(figsize=(15,6))\n",
    "plt.show()"
   ]
  },
  {
   "cell_type": "code",
   "execution_count": 55,
   "metadata": {},
   "outputs": [
    {
     "name": "stdout",
     "output_type": "stream",
     "text": [
      "2016-01-03 00:00:00 to 2016-12-05 00:00:00\n"
     ]
    }
   ],
   "source": [
    "# Checking range of dates for our values\n",
    "print(incfrq.index.min(),'to',incfrq.index.max())"
   ]
  },
  {
   "cell_type": "code",
   "execution_count": 73,
   "metadata": {},
   "outputs": [],
   "source": [
    "incfrom2013_new = incfrq[incfrq.index < dt.datetime(2016,8,1)]"
   ]
  },
  {
   "cell_type": "code",
   "execution_count": 74,
   "metadata": {},
   "outputs": [
    {
     "data": {
      "text/plain": [
       "opened_at\n",
       "2016-02-29    1314\n",
       "2016-01-03    2198\n",
       "2016-02-03    3152\n",
       "2016-03-03    2763\n",
       "2016-04-03     751\n",
       "2016-05-03      32\n",
       "2016-07-03     181\n",
       "2016-03-13     132\n",
       "2016-03-14    2726\n",
       "2016-03-15    2459\n",
       "2016-03-16    2121\n",
       "2016-03-17    1902\n",
       "2016-03-18    1687\n",
       "2016-03-19     198\n",
       "2016-03-20     201\n",
       "2016-03-21    2365\n",
       "2016-03-22    1779\n",
       "2016-03-23    1856\n",
       "2016-03-24    1783\n",
       "2016-03-25     230\n",
       "2016-03-26     268\n",
       "2016-03-27      50\n",
       "2016-03-28    1764\n",
       "2016-03-29    1285\n",
       "2016-03-30    2106\n",
       "2016-03-31    1871\n",
       "2016-01-04    2373\n",
       "2016-02-04     293\n",
       "2016-03-04     283\n",
       "2016-04-04    2504\n",
       "2016-05-04    1427\n",
       "2016-06-04    1043\n",
       "2016-07-04     845\n",
       "2016-04-13    1835\n",
       "2016-04-14    1808\n",
       "2016-04-15    1753\n",
       "2016-04-16     178\n",
       "2016-04-17     124\n",
       "2016-04-18    1963\n",
       "2016-04-19    1417\n",
       "2016-04-20    1819\n",
       "2016-04-21     159\n",
       "2016-04-22     421\n",
       "2016-04-23     187\n",
       "2016-04-24      86\n",
       "2016-04-25    1427\n",
       "2016-04-26     454\n",
       "2016-04-27     628\n",
       "2016-04-28     798\n",
       "2016-04-29    1003\n",
       "2016-04-30     299\n",
       "2016-01-05     395\n",
       "2016-02-05    2373\n",
       "2016-03-05    1790\n",
       "2016-04-05    2123\n",
       "2016-05-05    2133\n",
       "2016-06-05    1013\n",
       "2016-07-05     144\n",
       "2016-05-13     729\n",
       "Name: No_Incidents, dtype: int64"
      ]
     },
     "execution_count": 74,
     "metadata": {},
     "output_type": "execute_result"
    }
   ],
   "source": [
    "incfrom2013_new['No_Incidents']"
   ]
  },
  {
   "cell_type": "code",
   "execution_count": 75,
   "metadata": {},
   "outputs": [
    {
     "data": {
      "image/png": "[encoded data removed]",
      "text/plain": [
       "<Figure size 1080x432 with 1 Axes>"
      ]
     },
     "metadata": {
      "needs_background": "light"
     },
     "output_type": "display_data"
    }
   ],
   "source": [
    "incfrom2013_new.plot(figsize=(15,6))\n",
    "plt.show()"
   ]
  },
  {
   "cell_type": "code",
   "execution_count": 76,
   "metadata": {},
   "outputs": [],
   "source": [
    "from statsmodels.tsa.seasonal import seasonal_decompose"
   ]
  },
  {
   "cell_type": "code",
   "execution_count": 83,
   "metadata": {},
   "outputs": [
    {
     "data": {
      "image/png": "[encoded data removed]",
      "text/plain": [
       "<Figure size 432x288 with 4 Axes>"
      ]
     },
     "metadata": {
      "needs_background": "light"
     },
     "output_type": "display_data"
    }
   ],
   "source": [
    "results = seasonal_decompose(x=incfrom2013_new['No_Incidents'], model='additive', extrapolate_trend='freq', period=1)\n",
    "results.plot();"
   ]
  },
  {
   "cell_type": "code",
   "execution_count": 54,
   "metadata": {},
   "outputs": [
    {
     "ename": "NameError",
     "evalue": "name 'datatime64' is not defined",
     "output_type": "error",
     "traceback": [
      "\u001b[1;31m---------------------------------------------------------------------------\u001b[0m",
      "\u001b[1;31mNameError\u001b[0m                                 Traceback (most recent call last)",
      "\u001b[1;32m<ipython-input-54-f9e2605a7747>\u001b[0m in \u001b[0;36m<module>\u001b[1;34m\u001b[0m\n\u001b[0;32m      1\u001b[0m \u001b[1;32mfor\u001b[0m \u001b[0mcolumns\u001b[0m \u001b[1;32min\u001b[0m \u001b[0mincfrq\u001b[0m\u001b[1;33m.\u001b[0m\u001b[0mcolumns\u001b[0m\u001b[1;33m:\u001b[0m\u001b[1;33m\u001b[0m\u001b[1;33m\u001b[0m\u001b[0m\n\u001b[1;32m----> 2\u001b[1;33m     \u001b[1;32mif\u001b[0m \u001b[0mincfrq\u001b[0m\u001b[1;33m[\u001b[0m\u001b[0mcolumns\u001b[0m\u001b[1;33m]\u001b[0m\u001b[1;33m.\u001b[0m\u001b[0mdtype\u001b[0m\u001b[1;33m==\u001b[0m\u001b[0mdatatime64\u001b[0m\u001b[1;33m:\u001b[0m\u001b[1;33m\u001b[0m\u001b[1;33m\u001b[0m\u001b[0m\n\u001b[0m\u001b[0;32m      3\u001b[0m         \u001b[0mprint\u001b[0m\u001b[1;33m(\u001b[0m\u001b[0mstr\u001b[0m\u001b[1;33m(\u001b[0m\u001b[0mcolumns\u001b[0m\u001b[1;33m)\u001b[0m \u001b[1;33m+\u001b[0m \u001b[1;34m'-'\u001b[0m \u001b[1;33m+\u001b[0m \u001b[0mstr\u001b[0m\u001b[1;33m(\u001b[0m\u001b[0mincfrq\u001b[0m\u001b[1;33m[\u001b[0m\u001b[0mcolumns\u001b[0m\u001b[1;33m]\u001b[0m\u001b[1;33m.\u001b[0m\u001b[0munique\u001b[0m\u001b[1;33m(\u001b[0m\u001b[1;33m)\u001b[0m\u001b[1;33m)\u001b[0m\u001b[1;33m)\u001b[0m\u001b[1;33m\u001b[0m\u001b[1;33m\u001b[0m\u001b[0m\n\u001b[0;32m      4\u001b[0m         \u001b[0mprint\u001b[0m\u001b[1;33m(\u001b[0m\u001b[0mincfrq\u001b[0m\u001b[1;33m[\u001b[0m\u001b[0mcolumns\u001b[0m\u001b[1;33m]\u001b[0m\u001b[1;33m.\u001b[0m\u001b[0mvalue_counts\u001b[0m\u001b[1;33m(\u001b[0m\u001b[1;33m)\u001b[0m\u001b[1;33m)\u001b[0m\u001b[1;33m\u001b[0m\u001b[1;33m\u001b[0m\u001b[0m\n",
      "\u001b[1;31mNameError\u001b[0m: name 'datatime64' is not defined"
     ]
    }
   ],
   "source": [
    "for columns in incfrq.columns:\n",
    "    if incfrq[columns].dtype==datatime64:\n",
    "        print(str(columns) + '-' + str(incfrq[columns].unique()))\n",
    "        print(incfrq[columns].value_counts())"
   ]
  },
  {
   "cell_type": "code",
   "execution_count": 84,
   "metadata": {},
   "outputs": [
    {
     "data": {
      "text/html": [
       "<div>\n",
       "<style scoped>\n",
       "    .dataframe tbody tr th:only-of-type {\n",
       "        vertical-align: middle;\n",
       "    }\n",
       "\n",
       "    .dataframe tbody tr th {\n",
       "        vertical-align: top;\n",
       "    }\n",
       "\n",
       "    .dataframe thead th {\n",
       "        text-align: right;\n",
       "    }\n",
       "</style>\n",
       "<table border=\"1\" class=\"dataframe\">\n",
       "  <thead>\n",
       "    <tr style=\"text-align: right;\">\n",
       "      <th></th>\n",
       "      <th>Unnamed: 0</th>\n",
       "      <th>number</th>\n",
       "      <th>incident_state</th>\n",
       "      <th>active</th>\n",
       "      <th>reassignment_count</th>\n",
       "      <th>reopen_count</th>\n",
       "      <th>sys_mod_count</th>\n",
       "      <th>made_sla</th>\n",
       "      <th>caller_id</th>\n",
       "      <th>opened_by</th>\n",
       "      <th>...</th>\n",
       "      <th>knowledge</th>\n",
       "      <th>u_priority_confirmation</th>\n",
       "      <th>notify</th>\n",
       "      <th>closed_code</th>\n",
       "      <th>resolved_by</th>\n",
       "      <th>resolved_at</th>\n",
       "      <th>closed_at</th>\n",
       "      <th>ticket_life</th>\n",
       "      <th>sys_created + temp_mean</th>\n",
       "      <th>new2</th>\n",
       "    </tr>\n",
       "  </thead>\n",
       "  <tbody>\n",
       "    <tr>\n",
       "      <th>0</th>\n",
       "      <td>0</td>\n",
       "      <td>INC0000045</td>\n",
       "      <td>New</td>\n",
       "      <td>True</td>\n",
       "      <td>0</td>\n",
       "      <td>0</td>\n",
       "      <td>0</td>\n",
       "      <td>True</td>\n",
       "      <td>Caller 2403</td>\n",
       "      <td>Opened by  8</td>\n",
       "      <td>...</td>\n",
       "      <td>True</td>\n",
       "      <td>False</td>\n",
       "      <td>Do Not Notify</td>\n",
       "      <td>code 5</td>\n",
       "      <td>Resolved by 149</td>\n",
       "      <td>29/2/2016 11:29</td>\n",
       "      <td>2016-05-03 12:00:00.000000</td>\n",
       "      <td>5568240.0</td>\n",
       "      <td>2016-02-29 01:25:52.656747</td>\n",
       "      <td>2016-03-05 06:50:59.468315</td>\n",
       "    </tr>\n",
       "    <tr>\n",
       "      <th>1</th>\n",
       "      <td>1</td>\n",
       "      <td>INC0000045</td>\n",
       "      <td>Resolved</td>\n",
       "      <td>True</td>\n",
       "      <td>0</td>\n",
       "      <td>0</td>\n",
       "      <td>2</td>\n",
       "      <td>True</td>\n",
       "      <td>Caller 2403</td>\n",
       "      <td>Opened by  8</td>\n",
       "      <td>...</td>\n",
       "      <td>True</td>\n",
       "      <td>False</td>\n",
       "      <td>Do Not Notify</td>\n",
       "      <td>code 5</td>\n",
       "      <td>Resolved by 149</td>\n",
       "      <td>29/2/2016 11:29</td>\n",
       "      <td>2016-05-03 12:00:00.000000</td>\n",
       "      <td>5568240.0</td>\n",
       "      <td>2016-02-29 01:25:52.656747</td>\n",
       "      <td>2016-03-05 06:50:59.468315</td>\n",
       "    </tr>\n",
       "    <tr>\n",
       "      <th>2</th>\n",
       "      <td>2</td>\n",
       "      <td>INC0000045</td>\n",
       "      <td>Resolved</td>\n",
       "      <td>True</td>\n",
       "      <td>0</td>\n",
       "      <td>0</td>\n",
       "      <td>3</td>\n",
       "      <td>True</td>\n",
       "      <td>Caller 2403</td>\n",
       "      <td>Opened by  8</td>\n",
       "      <td>...</td>\n",
       "      <td>True</td>\n",
       "      <td>False</td>\n",
       "      <td>Do Not Notify</td>\n",
       "      <td>code 5</td>\n",
       "      <td>Resolved by 149</td>\n",
       "      <td>29/2/2016 11:29</td>\n",
       "      <td>2016-05-03 12:00:00.000000</td>\n",
       "      <td>5568240.0</td>\n",
       "      <td>2016-02-29 01:25:52.656747</td>\n",
       "      <td>2016-03-05 06:50:59.468315</td>\n",
       "    </tr>\n",
       "    <tr>\n",
       "      <th>3</th>\n",
       "      <td>3</td>\n",
       "      <td>INC0000045</td>\n",
       "      <td>Closed</td>\n",
       "      <td>False</td>\n",
       "      <td>0</td>\n",
       "      <td>0</td>\n",
       "      <td>4</td>\n",
       "      <td>True</td>\n",
       "      <td>Caller 2403</td>\n",
       "      <td>Opened by  8</td>\n",
       "      <td>...</td>\n",
       "      <td>True</td>\n",
       "      <td>False</td>\n",
       "      <td>Do Not Notify</td>\n",
       "      <td>code 5</td>\n",
       "      <td>Resolved by 149</td>\n",
       "      <td>29/2/2016 11:29</td>\n",
       "      <td>2016-05-03 12:00:00.000000</td>\n",
       "      <td>5568240.0</td>\n",
       "      <td>2016-02-29 01:25:52.656747</td>\n",
       "      <td>2016-03-05 06:50:59.468315</td>\n",
       "    </tr>\n",
       "    <tr>\n",
       "      <th>4</th>\n",
       "      <td>4</td>\n",
       "      <td>INC0000047</td>\n",
       "      <td>New</td>\n",
       "      <td>True</td>\n",
       "      <td>0</td>\n",
       "      <td>0</td>\n",
       "      <td>0</td>\n",
       "      <td>True</td>\n",
       "      <td>Caller 2403</td>\n",
       "      <td>Opened by  397</td>\n",
       "      <td>...</td>\n",
       "      <td>True</td>\n",
       "      <td>False</td>\n",
       "      <td>Do Not Notify</td>\n",
       "      <td>code 5</td>\n",
       "      <td>Resolved by 81</td>\n",
       "      <td>1/3/2016 09:52</td>\n",
       "      <td>2016-06-03 10:00:00.000000</td>\n",
       "      <td>8227200.0</td>\n",
       "      <td>2016-02-29 04:49:52.656747</td>\n",
       "      <td>2016-03-05 10:14:59.468315</td>\n",
       "    </tr>\n",
       "  </tbody>\n",
       "</table>\n",
       "<p>5 rows × 35 columns</p>\n",
       "</div>"
      ],
      "text/plain": [
       "   Unnamed: 0      number incident_state  active  reassignment_count  \\\n",
       "0           0  INC0000045            New    True                   0   \n",
       "1           1  INC0000045       Resolved    True                   0   \n",
       "2           2  INC0000045       Resolved    True                   0   \n",
       "3           3  INC0000045         Closed   False                   0   \n",
       "4           4  INC0000047            New    True                   0   \n",
       "\n",
       "   reopen_count  sys_mod_count  made_sla    caller_id       opened_by  ...  \\\n",
       "0             0              0      True  Caller 2403    Opened by  8  ...   \n",
       "1             0              2      True  Caller 2403    Opened by  8  ...   \n",
       "2             0              3      True  Caller 2403    Opened by  8  ...   \n",
       "3             0              4      True  Caller 2403    Opened by  8  ...   \n",
       "4             0              0      True  Caller 2403  Opened by  397  ...   \n",
       "\n",
       "  knowledge u_priority_confirmation         notify closed_code  \\\n",
       "0      True                   False  Do Not Notify      code 5   \n",
       "1      True                   False  Do Not Notify      code 5   \n",
       "2      True                   False  Do Not Notify      code 5   \n",
       "3      True                   False  Do Not Notify      code 5   \n",
       "4      True                   False  Do Not Notify      code 5   \n",
       "\n",
       "       resolved_by      resolved_at                   closed_at ticket_life  \\\n",
       "0  Resolved by 149  29/2/2016 11:29  2016-05-03 12:00:00.000000   5568240.0   \n",
       "1  Resolved by 149  29/2/2016 11:29  2016-05-03 12:00:00.000000   5568240.0   \n",
       "2  Resolved by 149  29/2/2016 11:29  2016-05-03 12:00:00.000000   5568240.0   \n",
       "3  Resolved by 149  29/2/2016 11:29  2016-05-03 12:00:00.000000   5568240.0   \n",
       "4   Resolved by 81   1/3/2016 09:52  2016-06-03 10:00:00.000000   8227200.0   \n",
       "\n",
       "      sys_created + temp_mean                        new2  \n",
       "0  2016-02-29 01:25:52.656747  2016-03-05 06:50:59.468315  \n",
       "1  2016-02-29 01:25:52.656747  2016-03-05 06:50:59.468315  \n",
       "2  2016-02-29 01:25:52.656747  2016-03-05 06:50:59.468315  \n",
       "3  2016-02-29 01:25:52.656747  2016-03-05 06:50:59.468315  \n",
       "4  2016-02-29 04:49:52.656747  2016-03-05 10:14:59.468315  \n",
       "\n",
       "[5 rows x 35 columns]"
      ]
     },
     "execution_count": 84,
     "metadata": {},
     "output_type": "execute_result"
    }
   ],
   "source": [
    "data.head()"
   ]
  },
  {
   "cell_type": "code",
   "execution_count": 102,
   "metadata": {},
   "outputs": [
    {
     "data": {
      "text/plain": [
       "array(['2016-02-29 01:16:00.000000', '2016-02-29 04:40:00.000000',\n",
       "       '2016-02-29 06:10:00.000000', ..., '2016-05-13 11:46:00.000000',\n",
       "       '2016-05-13 11:48:00.000000', '2016-05-13 11:49:00.000000'],\n",
       "      dtype=object)"
      ]
     },
     "execution_count": 102,
     "metadata": {},
     "output_type": "execute_result"
    }
   ],
   "source": [
    "data['opened_at'].unique()"
   ]
  },
  {
   "cell_type": "code",
   "execution_count": 103,
   "metadata": {},
   "outputs": [
    {
     "data": {
      "text/plain": [
       "2016-04-14 20:42:00.000000    58\n",
       "2016-03-30 09:20:00.000000    51\n",
       "2016-03-30 08:20:00.000000    46\n",
       "2016-04-19 08:20:00.000000    45\n",
       "2016-07-03 11:58:00.000000    44\n",
       "                              ..\n",
       "2016-03-04 07:40:00.000000     2\n",
       "2016-03-25 14:35:00.000000     2\n",
       "2016-03-18 15:10:00.000000     2\n",
       "2016-05-05 16:27:00.000000     2\n",
       "2016-05-13 11:49:00.000000     1\n",
       "Name: opened_at, Length: 10584, dtype: int64"
      ]
     },
     "execution_count": 103,
     "metadata": {},
     "output_type": "execute_result"
    }
   ],
   "source": [
    "data['opened_at'].value_counts()"
   ]
  },
  {
   "cell_type": "code",
   "execution_count": 105,
   "metadata": {},
   "outputs": [],
   "source": [
    "a = data.loc[:,['opened_at','closed_at']]"
   ]
  },
  {
   "cell_type": "code",
   "execution_count": 106,
   "metadata": {},
   "outputs": [
    {
     "data": {
      "text/html": [
       "<div>\n",
       "<style scoped>\n",
       "    .dataframe tbody tr th:only-of-type {\n",
       "        vertical-align: middle;\n",
       "    }\n",
       "\n",
       "    .dataframe tbody tr th {\n",
       "        vertical-align: top;\n",
       "    }\n",
       "\n",
       "    .dataframe thead th {\n",
       "        text-align: right;\n",
       "    }\n",
       "</style>\n",
       "<table border=\"1\" class=\"dataframe\">\n",
       "  <thead>\n",
       "    <tr style=\"text-align: right;\">\n",
       "      <th></th>\n",
       "      <th>opened_at</th>\n",
       "      <th>closed_at</th>\n",
       "    </tr>\n",
       "  </thead>\n",
       "  <tbody>\n",
       "    <tr>\n",
       "      <th>0</th>\n",
       "      <td>2016-02-29 01:16:00.000000</td>\n",
       "      <td>2016-05-03 12:00:00.000000</td>\n",
       "    </tr>\n",
       "    <tr>\n",
       "      <th>1</th>\n",
       "      <td>2016-02-29 01:16:00.000000</td>\n",
       "      <td>2016-05-03 12:00:00.000000</td>\n",
       "    </tr>\n",
       "    <tr>\n",
       "      <th>2</th>\n",
       "      <td>2016-02-29 01:16:00.000000</td>\n",
       "      <td>2016-05-03 12:00:00.000000</td>\n",
       "    </tr>\n",
       "    <tr>\n",
       "      <th>3</th>\n",
       "      <td>2016-02-29 01:16:00.000000</td>\n",
       "      <td>2016-05-03 12:00:00.000000</td>\n",
       "    </tr>\n",
       "    <tr>\n",
       "      <th>4</th>\n",
       "      <td>2016-02-29 04:40:00.000000</td>\n",
       "      <td>2016-06-03 10:00:00.000000</td>\n",
       "    </tr>\n",
       "  </tbody>\n",
       "</table>\n",
       "</div>"
      ],
      "text/plain": [
       "                    opened_at                   closed_at\n",
       "0  2016-02-29 01:16:00.000000  2016-05-03 12:00:00.000000\n",
       "1  2016-02-29 01:16:00.000000  2016-05-03 12:00:00.000000\n",
       "2  2016-02-29 01:16:00.000000  2016-05-03 12:00:00.000000\n",
       "3  2016-02-29 01:16:00.000000  2016-05-03 12:00:00.000000\n",
       "4  2016-02-29 04:40:00.000000  2016-06-03 10:00:00.000000"
      ]
     },
     "execution_count": 106,
     "metadata": {},
     "output_type": "execute_result"
    }
   ],
   "source": [
    "a.head()"
   ]
  },
  {
   "cell_type": "code",
   "execution_count": 107,
   "metadata": {},
   "outputs": [],
   "source": [
    "# Coverting all the values in proper Datetime format\n",
    "for i in range(len(a.opened_at)): \n",
    "        a.opened_at[i] = dt.datetime.strptime(a.opened_at[i],'%Y-%m-%d %H:%M:%S.%f').date()"
   ]
  },
  {
   "cell_type": "code",
   "execution_count": 108,
   "metadata": {},
   "outputs": [],
   "source": [
    "# Coverting all the values in proper Datetime format\n",
    "for i in range(len(a.closed_at)): \n",
    "        a.closed_at[i] = dt.datetime.strptime(a.closed_at[i],'%Y-%m-%d %H:%M:%S.%f').date()"
   ]
  },
  {
   "cell_type": "code",
   "execution_count": 134,
   "metadata": {},
   "outputs": [
    {
     "data": {
      "text/html": [
       "<div>\n",
       "<style scoped>\n",
       "    .dataframe tbody tr th:only-of-type {\n",
       "        vertical-align: middle;\n",
       "    }\n",
       "\n",
       "    .dataframe tbody tr th {\n",
       "        vertical-align: top;\n",
       "    }\n",
       "\n",
       "    .dataframe thead th {\n",
       "        text-align: right;\n",
       "    }\n",
       "</style>\n",
       "<table border=\"1\" class=\"dataframe\">\n",
       "  <thead>\n",
       "    <tr style=\"text-align: right;\">\n",
       "      <th></th>\n",
       "      <th>opened_at</th>\n",
       "      <th>closed_at</th>\n",
       "      <th>diff_days</th>\n",
       "    </tr>\n",
       "  </thead>\n",
       "  <tbody>\n",
       "    <tr>\n",
       "      <th>0</th>\n",
       "      <td>2016-02-29</td>\n",
       "      <td>2016-05-03</td>\n",
       "      <td>64.0</td>\n",
       "    </tr>\n",
       "    <tr>\n",
       "      <th>1</th>\n",
       "      <td>2016-02-29</td>\n",
       "      <td>2016-05-03</td>\n",
       "      <td>64.0</td>\n",
       "    </tr>\n",
       "    <tr>\n",
       "      <th>2</th>\n",
       "      <td>2016-02-29</td>\n",
       "      <td>2016-05-03</td>\n",
       "      <td>64.0</td>\n",
       "    </tr>\n",
       "    <tr>\n",
       "      <th>3</th>\n",
       "      <td>2016-02-29</td>\n",
       "      <td>2016-05-03</td>\n",
       "      <td>64.0</td>\n",
       "    </tr>\n",
       "    <tr>\n",
       "      <th>4</th>\n",
       "      <td>2016-02-29</td>\n",
       "      <td>2016-06-03</td>\n",
       "      <td>95.0</td>\n",
       "    </tr>\n",
       "    <tr>\n",
       "      <th>5</th>\n",
       "      <td>2016-02-29</td>\n",
       "      <td>2016-06-03</td>\n",
       "      <td>95.0</td>\n",
       "    </tr>\n",
       "    <tr>\n",
       "      <th>6</th>\n",
       "      <td>2016-02-29</td>\n",
       "      <td>2016-06-03</td>\n",
       "      <td>95.0</td>\n",
       "    </tr>\n",
       "    <tr>\n",
       "      <th>7</th>\n",
       "      <td>2016-02-29</td>\n",
       "      <td>2016-06-03</td>\n",
       "      <td>95.0</td>\n",
       "    </tr>\n",
       "    <tr>\n",
       "      <th>8</th>\n",
       "      <td>2016-02-29</td>\n",
       "      <td>2016-06-03</td>\n",
       "      <td>95.0</td>\n",
       "    </tr>\n",
       "    <tr>\n",
       "      <th>9</th>\n",
       "      <td>2016-02-29</td>\n",
       "      <td>2016-06-03</td>\n",
       "      <td>95.0</td>\n",
       "    </tr>\n",
       "  </tbody>\n",
       "</table>\n",
       "</div>"
      ],
      "text/plain": [
       "    opened_at   closed_at  diff_days\n",
       "0  2016-02-29  2016-05-03       64.0\n",
       "1  2016-02-29  2016-05-03       64.0\n",
       "2  2016-02-29  2016-05-03       64.0\n",
       "3  2016-02-29  2016-05-03       64.0\n",
       "4  2016-02-29  2016-06-03       95.0\n",
       "5  2016-02-29  2016-06-03       95.0\n",
       "6  2016-02-29  2016-06-03       95.0\n",
       "7  2016-02-29  2016-06-03       95.0\n",
       "8  2016-02-29  2016-06-03       95.0\n",
       "9  2016-02-29  2016-06-03       95.0"
      ]
     },
     "execution_count": 134,
     "metadata": {},
     "output_type": "execute_result"
    }
   ],
   "source": [
    "a.head(10)"
   ]
  },
  {
   "cell_type": "code",
   "execution_count": 126,
   "metadata": {},
   "outputs": [
    {
     "data": {
      "text/plain": [
       "datetime.timedelta(0)"
      ]
     },
     "execution_count": 126,
     "metadata": {},
     "output_type": "execute_result"
    }
   ],
   "source": [
    "for i in range(len(a.opened_at)):\n",
    "    a['diff_days'] = a['closed_at'] - a['opened_at']  \n",
    "    a['diff_days']=a['diff_days']/np.timedelta64(1,'D')      "
   ]
  },
  {
   "cell_type": "code",
   "execution_count": 135,
   "metadata": {},
   "outputs": [
    {
     "data": {
      "text/plain": [
       "80.37294670250604"
      ]
     },
     "execution_count": 135,
     "metadata": {},
     "output_type": "execute_result"
    }
   ],
   "source": [
    "a['diff_days'].mean()"
   ]
  },
  {
   "cell_type": "code",
   "execution_count": null,
   "metadata": {},
   "outputs": [],
   "source": []
  }
 ],
 "metadata": {
  "kernelspec": {
   "display_name": "Python 3",
   "language": "python",
   "name": "python3"
  },
  "language_info": {
   "codemirror_mode": {
    "name": "ipython",
    "version": 3
   },
   "file_extension": ".py",
   "mimetype": "text/x-python",
   "name": "python",
   "nbconvert_exporter": "python",
   "pygments_lexer": "ipython3",
   "version": "3.8.5"
  }
 },
 "nbformat": 4,
 "nbformat_minor": 4
}
